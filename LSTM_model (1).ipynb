{
  "cells": [
    {
      "cell_type": "markdown",
      "metadata": {
        "colab_type": "text",
        "id": "view-in-github"
      },
      "source": [
        "<a href=\"https://colab.research.google.com/github/034adarsh/Stock-Price-Prediction-Using-LSTM/blob/main/LSTM_model.ipynb\" target=\"_parent\"><img src=\"https://colab.research.google.com/assets/colab-badge.svg\" alt=\"Open In Colab\"/></a>"
      ]
    },
    {
      "cell_type": "markdown",
      "id": "yrU0iWdalVGx",
      "metadata": {
        "id": "yrU0iWdalVGx"
      },
      "source": [
        "# Import all the required libraries\n",
        "\n",
        "---\n",
        "\n"
      ]
    },
    {
      "cell_type": "code",
      "execution_count": 1,
      "id": "4189cf86",
      "metadata": {
        "id": "4189cf86",
        "scrolled": false
      },
      "outputs": [],
      "source": [
        "import pandas as pd\n",
        "import datetime as dt\n",
        "from datetime import date\n",
        "import matplotlib.pyplot as plt\n",
        "import numpy as np\n",
        "import tensorflow as tf"
      ]
    },
    {
      "cell_type": "code",
      "execution_count": null,
      "id": "0a565684",
      "metadata": {},
      "outputs": [],
      "source": []
    },
    {
      "cell_type": "markdown",
      "id": "Nij98iZElfyQ",
      "metadata": {
        "id": "Nij98iZElfyQ"
      },
      "source": [
        "# Define start day to fetch the dataset from the yahoo finance library\n",
        "\n",
        "---\n",
        "\n"
      ]
    },
    {
      "cell_type": "code",
      "execution_count": 2,
      "id": "c5f71e4e",
      "metadata": {
        "colab": {
          "base_uri": "https://localhost:8080/",
          "height": 224
        },
        "id": "c5f71e4e",
        "outputId": "627e3c55-f7ad-4646-d692-1eda960bd603"
      },
      "outputs": [
        {
          "name": "stderr",
          "output_type": "stream",
          "text": [
            "/var/folders/30/v4dylpfj5td9lqpsn5kfpkw40000gn/T/ipykernel_24827/1608158142.py:1: ParserWarning: Falling back to the 'python' engine because the 'c' engine does not support skipfooter; you can avoid this warning by specifying engine='python'.\n",
            "  df = pd.read_csv('/Users/wangrong/Desktop/3yrsNIK.csv',\n"
          ]
        },
        {
          "data": {
            "text/html": [
              "<div>\n",
              "<style scoped>\n",
              "    .dataframe tbody tr th:only-of-type {\n",
              "        vertical-align: middle;\n",
              "    }\n",
              "\n",
              "    .dataframe tbody tr th {\n",
              "        vertical-align: top;\n",
              "    }\n",
              "\n",
              "    .dataframe thead th {\n",
              "        text-align: right;\n",
              "    }\n",
              "</style>\n",
              "<table border=\"1\" class=\"dataframe\">\n",
              "  <thead>\n",
              "    <tr style=\"text-align: right;\">\n",
              "      <th></th>\n",
              "      <th>Date of Data</th>\n",
              "      <th>Close</th>\n",
              "      <th>Open</th>\n",
              "      <th>High</th>\n",
              "      <th>Low</th>\n",
              "    </tr>\n",
              "  </thead>\n",
              "  <tbody>\n",
              "    <tr>\n",
              "      <th>0</th>\n",
              "      <td>2022/01/04</td>\n",
              "      <td>29301.79</td>\n",
              "      <td>29098.41</td>\n",
              "      <td>29323.79</td>\n",
              "      <td>28954.56</td>\n",
              "    </tr>\n",
              "    <tr>\n",
              "      <th>1</th>\n",
              "      <td>2022/01/05</td>\n",
              "      <td>29332.16</td>\n",
              "      <td>29288.80</td>\n",
              "      <td>29388.16</td>\n",
              "      <td>29204.45</td>\n",
              "    </tr>\n",
              "    <tr>\n",
              "      <th>2</th>\n",
              "      <td>2022/01/06</td>\n",
              "      <td>28487.87</td>\n",
              "      <td>29136.75</td>\n",
              "      <td>29158.95</td>\n",
              "      <td>28487.87</td>\n",
              "    </tr>\n",
              "    <tr>\n",
              "      <th>3</th>\n",
              "      <td>2022/01/07</td>\n",
              "      <td>28478.56</td>\n",
              "      <td>28711.53</td>\n",
              "      <td>28813.09</td>\n",
              "      <td>28293.70</td>\n",
              "    </tr>\n",
              "    <tr>\n",
              "      <th>4</th>\n",
              "      <td>2022/01/11</td>\n",
              "      <td>28222.48</td>\n",
              "      <td>28380.90</td>\n",
              "      <td>28473.47</td>\n",
              "      <td>28089.49</td>\n",
              "    </tr>\n",
              "  </tbody>\n",
              "</table>\n",
              "</div>"
            ],
            "text/plain": [
              "  Date of Data     Close      Open      High       Low\n",
              "0   2022/01/04  29301.79  29098.41  29323.79  28954.56\n",
              "1   2022/01/05  29332.16  29288.80  29388.16  29204.45\n",
              "2   2022/01/06  28487.87  29136.75  29158.95  28487.87\n",
              "3   2022/01/07  28478.56  28711.53  28813.09  28293.70\n",
              "4   2022/01/11  28222.48  28380.90  28473.47  28089.49"
            ]
          },
          "execution_count": 2,
          "metadata": {},
          "output_type": "execute_result"
        }
      ],
      "source": [
        "\n",
        "df = pd.read_csv('/Users/wangrong/Desktop/3yrsNIK.csv', \n",
        "                 encoding='shift_jis', \n",
        "                 skipfooter=1)\n",
        "                #  usecols=[\"Date of Data\",\"Close\"],\n",
        "                #  index_col='Date of Data',\n",
        "                #  parse_dates=True,\n",
        "                #  engine='python')  \n",
        "# df.index = pd.to_datetime(df.index)\n",
        "df = df.sort_index()\n",
        "                \n",
        "df.head()"
      ]
    },
    {
      "cell_type": "code",
      "execution_count": 3,
      "id": "c7ec39e4",
      "metadata": {
        "colab": {
          "base_uri": "https://localhost:8080/",
          "height": 206
        },
        "id": "c7ec39e4",
        "outputId": "72ee0443-1c7b-4f9e-ffc2-dde931591f11"
      },
      "outputs": [],
      "source": [
        "#drop first column\n",
        "# df = df.drop(columns=['Date of Data'])"
      ]
    },
    {
      "cell_type": "code",
      "execution_count": 4,
      "id": "0707b26a",
      "metadata": {
        "colab": {
          "base_uri": "https://localhost:8080/",
          "height": 470
        },
        "id": "0707b26a",
        "outputId": "eaf32986-f474-41b6-effa-508e27b5bb5c",
        "scrolled": true
      },
      "outputs": [
        {
          "data": {
            "text/plain": [
              "[<matplotlib.lines.Line2D at 0x319d64320>]"
            ]
          },
          "execution_count": 4,
          "metadata": {},
          "output_type": "execute_result"
        },
        {
          "data": {
            "image/png": "[encoded data removed]",
            "text/plain": [
              "<Figure size 640x480 with 1 Axes>"
            ]
          },
          "metadata": {},
          "output_type": "display_data"
        }
      ],
      "source": [
        "plt.title(\"Close Price Visualization\")\n",
        "plt.plot(df.Close)"
      ]
    },
    {
      "cell_type": "code",
      "execution_count": 5,
      "id": "73888072",
      "metadata": {
        "colab": {
          "base_uri": "https://localhost:8080/",
          "height": 424
        },
        "id": "73888072",
        "outputId": "00dc415f-edf2-48f4-92b0-ee71f4042112"
      },
      "outputs": [
        {
          "data": {
            "text/html": [
              "<div>\n",
              "<style scoped>\n",
              "    .dataframe tbody tr th:only-of-type {\n",
              "        vertical-align: middle;\n",
              "    }\n",
              "\n",
              "    .dataframe tbody tr th {\n",
              "        vertical-align: top;\n",
              "    }\n",
              "\n",
              "    .dataframe thead th {\n",
              "        text-align: right;\n",
              "    }\n",
              "</style>\n",
              "<table border=\"1\" class=\"dataframe\">\n",
              "  <thead>\n",
              "    <tr style=\"text-align: right;\">\n",
              "      <th></th>\n",
              "      <th>Date of Data</th>\n",
              "      <th>Close</th>\n",
              "      <th>Open</th>\n",
              "      <th>High</th>\n",
              "      <th>Low</th>\n",
              "    </tr>\n",
              "  </thead>\n",
              "  <tbody>\n",
              "    <tr>\n",
              "      <th>0</th>\n",
              "      <td>2022/01/04</td>\n",
              "      <td>29301.79</td>\n",
              "      <td>29098.41</td>\n",
              "      <td>29323.79</td>\n",
              "      <td>28954.56</td>\n",
              "    </tr>\n",
              "    <tr>\n",
              "      <th>1</th>\n",
              "      <td>2022/01/05</td>\n",
              "      <td>29332.16</td>\n",
              "      <td>29288.80</td>\n",
              "      <td>29388.16</td>\n",
              "      <td>29204.45</td>\n",
              "    </tr>\n",
              "    <tr>\n",
              "      <th>2</th>\n",
              "      <td>2022/01/06</td>\n",
              "      <td>28487.87</td>\n",
              "      <td>29136.75</td>\n",
              "      <td>29158.95</td>\n",
              "      <td>28487.87</td>\n",
              "    </tr>\n",
              "    <tr>\n",
              "      <th>3</th>\n",
              "      <td>2022/01/07</td>\n",
              "      <td>28478.56</td>\n",
              "      <td>28711.53</td>\n",
              "      <td>28813.09</td>\n",
              "      <td>28293.70</td>\n",
              "    </tr>\n",
              "    <tr>\n",
              "      <th>4</th>\n",
              "      <td>2022/01/11</td>\n",
              "      <td>28222.48</td>\n",
              "      <td>28380.90</td>\n",
              "      <td>28473.47</td>\n",
              "      <td>28089.49</td>\n",
              "    </tr>\n",
              "    <tr>\n",
              "      <th>...</th>\n",
              "      <td>...</td>\n",
              "      <td>...</td>\n",
              "      <td>...</td>\n",
              "      <td>...</td>\n",
              "      <td>...</td>\n",
              "    </tr>\n",
              "    <tr>\n",
              "      <th>820</th>\n",
              "      <td>2025/05/14</td>\n",
              "      <td>38128.13</td>\n",
              "      <td>38199.03</td>\n",
              "      <td>38325.88</td>\n",
              "      <td>37851.80</td>\n",
              "    </tr>\n",
              "    <tr>\n",
              "      <th>821</th>\n",
              "      <td>2025/05/15</td>\n",
              "      <td>37755.51</td>\n",
              "      <td>37832.36</td>\n",
              "      <td>37876.84</td>\n",
              "      <td>37633.36</td>\n",
              "    </tr>\n",
              "    <tr>\n",
              "      <th>822</th>\n",
              "      <td>2025/05/16</td>\n",
              "      <td>37753.72</td>\n",
              "      <td>37748.58</td>\n",
              "      <td>37786.43</td>\n",
              "      <td>37479.21</td>\n",
              "    </tr>\n",
              "    <tr>\n",
              "      <th>823</th>\n",
              "      <td>2025/05/19</td>\n",
              "      <td>37498.63</td>\n",
              "      <td>37572.36</td>\n",
              "      <td>37656.23</td>\n",
              "      <td>37445.93</td>\n",
              "    </tr>\n",
              "    <tr>\n",
              "      <th>824</th>\n",
              "      <td>2025/05/20</td>\n",
              "      <td>37529.49</td>\n",
              "      <td>37723.60</td>\n",
              "      <td>37921.81</td>\n",
              "      <td>37455.70</td>\n",
              "    </tr>\n",
              "  </tbody>\n",
              "</table>\n",
              "<p>825 rows × 5 columns</p>\n",
              "</div>"
            ],
            "text/plain": [
              "    Date of Data     Close      Open      High       Low\n",
              "0     2022/01/04  29301.79  29098.41  29323.79  28954.56\n",
              "1     2022/01/05  29332.16  29288.80  29388.16  29204.45\n",
              "2     2022/01/06  28487.87  29136.75  29158.95  28487.87\n",
              "3     2022/01/07  28478.56  28711.53  28813.09  28293.70\n",
              "4     2022/01/11  28222.48  28380.90  28473.47  28089.49\n",
              "..           ...       ...       ...       ...       ...\n",
              "820   2025/05/14  38128.13  38199.03  38325.88  37851.80\n",
              "821   2025/05/15  37755.51  37832.36  37876.84  37633.36\n",
              "822   2025/05/16  37753.72  37748.58  37786.43  37479.21\n",
              "823   2025/05/19  37498.63  37572.36  37656.23  37445.93\n",
              "824   2025/05/20  37529.49  37723.60  37921.81  37455.70\n",
              "\n",
              "[825 rows x 5 columns]"
            ]
          },
          "execution_count": 5,
          "metadata": {},
          "output_type": "execute_result"
        }
      ],
      "source": [
        "df"
      ]
    },
    {
      "cell_type": "markdown",
      "id": "UMkTEOfBlzte",
      "metadata": {
        "id": "UMkTEOfBlzte"
      },
      "source": [
        "# Plotting moving averages of 100 day\n",
        "\n",
        "---\n",
        "\n"
      ]
    },
    {
      "cell_type": "code",
      "execution_count": 6,
      "id": "114d2e0c",
      "metadata": {
        "colab": {
          "base_uri": "https://localhost:8080/"
        },
        "id": "114d2e0c",
        "outputId": "734fff73-936a-4bab-a8ad-351c8bd2ca8e"
      },
      "outputs": [
        {
          "data": {
            "text/plain": [
              "0             NaN\n",
              "1             NaN\n",
              "2             NaN\n",
              "3             NaN\n",
              "4             NaN\n",
              "          ...    \n",
              "820    37609.6834\n",
              "821    37593.5162\n",
              "822    37572.5620\n",
              "823    37552.8439\n",
              "824    37533.5639\n",
              "Name: Close, Length: 825, dtype: float64"
            ]
          },
          "execution_count": 6,
          "metadata": {},
          "output_type": "execute_result"
        }
      ],
      "source": [
        "ma100 = df.Close.rolling(100).mean()\n",
        "ma100"
      ]
    },
    {
      "cell_type": "code",
      "execution_count": 7,
      "id": "e2f6b740",
      "metadata": {
        "colab": {
          "base_uri": "https://localhost:8080/",
          "height": 563
        },
        "id": "e2f6b740",
        "outputId": "b108baa8-775f-4709-f7d3-8c8eabbc0028"
      },
      "outputs": [
        {
          "data": {
            "text/plain": [
              "Text(0.5, 1.0, 'Graph Of Moving Averages Of 100 Days')"
            ]
          },
          "execution_count": 7,
          "metadata": {},
          "output_type": "execute_result"
        },
        {
          "data": {
            "image/png": "[encoded data removed]",
            "text/plain": [
              "<Figure size 1200x600 with 1 Axes>"
            ]
          },
          "metadata": {},
          "output_type": "display_data"
        }
      ],
      "source": [
        "plt.figure(figsize = (12,6))\n",
        "plt.plot(df.Close)\n",
        "plt.plot(ma100, 'r')\n",
        "plt.title('Graph Of Moving Averages Of 100 Days')"
      ]
    },
    {
      "cell_type": "markdown",
      "id": "LQKvGsXwmN65",
      "metadata": {
        "id": "LQKvGsXwmN65"
      },
      "source": [
        "# Defining 200 days moving averages and plotting comparision graph with 100 days moving averages\n",
        "\n",
        "---\n",
        "\n"
      ]
    },
    {
      "cell_type": "code",
      "execution_count": 8,
      "id": "46c89811",
      "metadata": {
        "colab": {
          "base_uri": "https://localhost:8080/"
        },
        "id": "46c89811",
        "outputId": "6520dee7-6658-4a24-8f8f-7144aed4df59"
      },
      "outputs": [
        {
          "data": {
            "text/plain": [
              "0              NaN\n",
              "1              NaN\n",
              "2              NaN\n",
              "3              NaN\n",
              "4              NaN\n",
              "          ...     \n",
              "820    37884.73855\n",
              "821    37868.02765\n",
              "822    37856.16450\n",
              "823    37843.33870\n",
              "824    37832.99115\n",
              "Name: Close, Length: 825, dtype: float64"
            ]
          },
          "execution_count": 8,
          "metadata": {},
          "output_type": "execute_result"
        }
      ],
      "source": [
        "ma200 = df.Close.rolling(200).mean()\n",
        "ma200"
      ]
    },
    {
      "cell_type": "code",
      "execution_count": 9,
      "id": "d7c0ce2e",
      "metadata": {
        "colab": {
          "base_uri": "https://localhost:8080/",
          "height": 563
        },
        "id": "d7c0ce2e",
        "outputId": "78eea70a-f8e6-4e59-a1de-838e5f283551"
      },
      "outputs": [
        {
          "data": {
            "text/plain": [
              "Text(0.5, 1.0, 'Comparision Of 100 Days And 200 Days Moving Averages')"
            ]
          },
          "execution_count": 9,
          "metadata": {},
          "output_type": "execute_result"
        },
        {
          "data": {
            "image/png": "[encoded data removed]",
            "text/plain": [
              "<Figure size 1200x600 with 1 Axes>"
            ]
          },
          "metadata": {},
          "output_type": "display_data"
        }
      ],
      "source": [
        "plt.figure(figsize = (12,6))\n",
        "plt.plot(df.Close)\n",
        "plt.plot(ma100, 'r')\n",
        "plt.plot(ma200, 'g')\n",
        "plt.title('Comparision Of 100 Days And 200 Days Moving Averages')"
      ]
    },
    {
      "cell_type": "code",
      "execution_count": 10,
      "id": "45a099a7",
      "metadata": {
        "colab": {
          "base_uri": "https://localhost:8080/"
        },
        "id": "45a099a7",
        "outputId": "6ee85271-92fd-4b96-9176-15e36e707b99"
      },
      "outputs": [
        {
          "data": {
            "text/plain": [
              "(825, 5)"
            ]
          },
          "execution_count": 10,
          "metadata": {},
          "output_type": "execute_result"
        }
      ],
      "source": [
        "df.shape"
      ]
    },
    {
      "cell_type": "markdown",
      "id": "bCw5fsrlmfpm",
      "metadata": {
        "id": "bCw5fsrlmfpm"
      },
      "source": [
        "# Spliting the dataset into training (70%) and testing (30%) set"
      ]
    },
    {
      "cell_type": "code",
      "execution_count": 11,
      "id": "9610c5fc",
      "metadata": {
        "colab": {
          "base_uri": "https://localhost:8080/"
        },
        "id": "9610c5fc",
        "outputId": "23512f81-bb65-4fab-c31c-dca219041ec5"
      },
      "outputs": [
        {
          "name": "stdout",
          "output_type": "stream",
          "text": [
            "(577, 5)\n",
            "(248, 5)\n"
          ]
        }
      ],
      "source": [
        "# Splitting data into training and testing\n",
        "data = df.values\n",
        "# data = data.astype('float32')\n",
        "\n",
        "# Converting to DataFrame\n",
        "# Splitting the data into training and testing sets\n",
        "\n",
        "train = pd.DataFrame(df[0:int(len(data)*0.70)])\n",
        "test = pd.DataFrame(df[int(len(data)*0.70): int(len(data))])\n",
        "\n",
        "print(train.shape)\n",
        "print(test.shape)"
      ]
    },
    {
      "cell_type": "code",
      "execution_count": 12,
      "id": "2cb33dc0",
      "metadata": {
        "colab": {
          "base_uri": "https://localhost:8080/",
          "height": 206
        },
        "id": "2cb33dc0",
        "outputId": "403e717e-3fca-4880-8454-988eb9cfc1c4"
      },
      "outputs": [
        {
          "data": {
            "text/html": [
              "<div>\n",
              "<style scoped>\n",
              "    .dataframe tbody tr th:only-of-type {\n",
              "        vertical-align: middle;\n",
              "    }\n",
              "\n",
              "    .dataframe tbody tr th {\n",
              "        vertical-align: top;\n",
              "    }\n",
              "\n",
              "    .dataframe thead th {\n",
              "        text-align: right;\n",
              "    }\n",
              "</style>\n",
              "<table border=\"1\" class=\"dataframe\">\n",
              "  <thead>\n",
              "    <tr style=\"text-align: right;\">\n",
              "      <th></th>\n",
              "      <th>Date of Data</th>\n",
              "      <th>Close</th>\n",
              "      <th>Open</th>\n",
              "      <th>High</th>\n",
              "      <th>Low</th>\n",
              "    </tr>\n",
              "  </thead>\n",
              "  <tbody>\n",
              "    <tr>\n",
              "      <th>0</th>\n",
              "      <td>2022/01/04</td>\n",
              "      <td>29301.79</td>\n",
              "      <td>29098.41</td>\n",
              "      <td>29323.79</td>\n",
              "      <td>28954.56</td>\n",
              "    </tr>\n",
              "    <tr>\n",
              "      <th>1</th>\n",
              "      <td>2022/01/05</td>\n",
              "      <td>29332.16</td>\n",
              "      <td>29288.80</td>\n",
              "      <td>29388.16</td>\n",
              "      <td>29204.45</td>\n",
              "    </tr>\n",
              "    <tr>\n",
              "      <th>2</th>\n",
              "      <td>2022/01/06</td>\n",
              "      <td>28487.87</td>\n",
              "      <td>29136.75</td>\n",
              "      <td>29158.95</td>\n",
              "      <td>28487.87</td>\n",
              "    </tr>\n",
              "    <tr>\n",
              "      <th>3</th>\n",
              "      <td>2022/01/07</td>\n",
              "      <td>28478.56</td>\n",
              "      <td>28711.53</td>\n",
              "      <td>28813.09</td>\n",
              "      <td>28293.70</td>\n",
              "    </tr>\n",
              "    <tr>\n",
              "      <th>4</th>\n",
              "      <td>2022/01/11</td>\n",
              "      <td>28222.48</td>\n",
              "      <td>28380.90</td>\n",
              "      <td>28473.47</td>\n",
              "      <td>28089.49</td>\n",
              "    </tr>\n",
              "  </tbody>\n",
              "</table>\n",
              "</div>"
            ],
            "text/plain": [
              "  Date of Data     Close      Open      High       Low\n",
              "0   2022/01/04  29301.79  29098.41  29323.79  28954.56\n",
              "1   2022/01/05  29332.16  29288.80  29388.16  29204.45\n",
              "2   2022/01/06  28487.87  29136.75  29158.95  28487.87\n",
              "3   2022/01/07  28478.56  28711.53  28813.09  28293.70\n",
              "4   2022/01/11  28222.48  28380.90  28473.47  28089.49"
            ]
          },
          "execution_count": 12,
          "metadata": {},
          "output_type": "execute_result"
        }
      ],
      "source": [
        "train.head()"
      ]
    },
    {
      "cell_type": "code",
      "execution_count": 13,
      "id": "91f5ef8b",
      "metadata": {
        "colab": {
          "base_uri": "https://localhost:8080/",
          "height": 206
        },
        "id": "91f5ef8b",
        "outputId": "a3241f79-660f-48b0-9ffa-e67d05710615"
      },
      "outputs": [
        {
          "data": {
            "text/html": [
              "<div>\n",
              "<style scoped>\n",
              "    .dataframe tbody tr th:only-of-type {\n",
              "        vertical-align: middle;\n",
              "    }\n",
              "\n",
              "    .dataframe tbody tr th {\n",
              "        vertical-align: top;\n",
              "    }\n",
              "\n",
              "    .dataframe thead th {\n",
              "        text-align: right;\n",
              "    }\n",
              "</style>\n",
              "<table border=\"1\" class=\"dataframe\">\n",
              "  <thead>\n",
              "    <tr style=\"text-align: right;\">\n",
              "      <th></th>\n",
              "      <th>Date of Data</th>\n",
              "      <th>Close</th>\n",
              "      <th>Open</th>\n",
              "      <th>High</th>\n",
              "      <th>Low</th>\n",
              "    </tr>\n",
              "  </thead>\n",
              "  <tbody>\n",
              "    <tr>\n",
              "      <th>577</th>\n",
              "      <td>2024/05/15</td>\n",
              "      <td>38385.73</td>\n",
              "      <td>38533.09</td>\n",
              "      <td>38816.60</td>\n",
              "      <td>38335.61</td>\n",
              "    </tr>\n",
              "    <tr>\n",
              "      <th>578</th>\n",
              "      <td>2024/05/16</td>\n",
              "      <td>38920.26</td>\n",
              "      <td>38645.96</td>\n",
              "      <td>38949.38</td>\n",
              "      <td>38513.33</td>\n",
              "    </tr>\n",
              "    <tr>\n",
              "      <th>579</th>\n",
              "      <td>2024/05/17</td>\n",
              "      <td>38787.38</td>\n",
              "      <td>38561.04</td>\n",
              "      <td>38842.49</td>\n",
              "      <td>38539.56</td>\n",
              "    </tr>\n",
              "    <tr>\n",
              "      <th>580</th>\n",
              "      <td>2024/05/20</td>\n",
              "      <td>39069.68</td>\n",
              "      <td>38761.71</td>\n",
              "      <td>39437.16</td>\n",
              "      <td>38703.70</td>\n",
              "    </tr>\n",
              "    <tr>\n",
              "      <th>581</th>\n",
              "      <td>2024/05/21</td>\n",
              "      <td>38946.93</td>\n",
              "      <td>39232.16</td>\n",
              "      <td>39346.15</td>\n",
              "      <td>38942.28</td>\n",
              "    </tr>\n",
              "  </tbody>\n",
              "</table>\n",
              "</div>"
            ],
            "text/plain": [
              "    Date of Data     Close      Open      High       Low\n",
              "577   2024/05/15  38385.73  38533.09  38816.60  38335.61\n",
              "578   2024/05/16  38920.26  38645.96  38949.38  38513.33\n",
              "579   2024/05/17  38787.38  38561.04  38842.49  38539.56\n",
              "580   2024/05/20  39069.68  38761.71  39437.16  38703.70\n",
              "581   2024/05/21  38946.93  39232.16  39346.15  38942.28"
            ]
          },
          "execution_count": 13,
          "metadata": {},
          "output_type": "execute_result"
        }
      ],
      "source": [
        "test.head()"
      ]
    },
    {
      "cell_type": "markdown",
      "id": "-a818gdwm_WV",
      "metadata": {
        "id": "-a818gdwm_WV"
      },
      "source": [
        "# Using MinMax scaler for normalization of the dataset\n",
        "\n",
        "---\n",
        "\n"
      ]
    },
    {
      "cell_type": "code",
      "execution_count": 14,
      "id": "01f04df7",
      "metadata": {
        "id": "01f04df7"
      },
      "outputs": [],
      "source": [
        "from sklearn.preprocessing import MinMaxScaler\n",
        "scaler = MinMaxScaler(feature_range=(0,1))"
      ]
    },
    {
      "cell_type": "code",
      "execution_count": 15,
      "id": "53oSB51dB6Tw",
      "metadata": {
        "id": "53oSB51dB6Tw"
      },
      "outputs": [],
      "source": [
        "train_close = train.iloc[:, 1:2].values\n",
        "test_close = test.iloc[:, 1:2].values"
      ]
    },
    {
      "cell_type": "code",
      "execution_count": 16,
      "id": "d97e7ff8",
      "metadata": {
        "colab": {
          "base_uri": "https://localhost:8080/"
        },
        "id": "d97e7ff8",
        "outputId": "8bf8560a-d7ec-4797-a55a-a8c7bb7720d9"
      },
      "outputs": [
        {
          "data": {
            "text/plain": [
              "array([[0.28348824],\n",
              "       [0.28536631],\n",
              "       [0.23315585],\n",
              "       [0.23258013],\n",
              "       [0.21674428],\n",
              "       [0.25033424],\n",
              "       [0.23323377],\n",
              "       [0.21067164],\n",
              "       [0.22361093],\n",
              "       [0.21889443],\n",
              "       [0.17004001],\n",
              "       [0.18894434],\n",
              "       [0.17344304],\n",
              "       [0.17753124],\n",
              "       [0.14926875],\n",
              "       [0.14184739],\n",
              "       [0.08983854],\n",
              "       [0.1236672 ],\n",
              "       [0.14126919],\n",
              "       [0.14599991],\n",
              "       [0.1741443 ],\n",
              "       [0.15606924],\n",
              "       [0.1683555 ],\n",
              "       [0.15653674],\n",
              "       [0.15874132],\n",
              "       [0.17700561],\n",
              "       [0.18419197],\n",
              "       [0.14606856],\n",
              "       [0.13281017],\n",
              "       [0.16961765],\n",
              "       [0.15554731],\n",
              "       [0.1486955 ],\n",
              "       [0.135635  ],\n",
              "       [0.10711092],\n",
              "       [0.0775028 ],\n",
              "       [0.10877379],\n",
              "       [0.11188555],\n",
              "       [0.13154432],\n",
              "       [0.10361204],\n",
              "       [0.11500535],\n",
              "       [0.07840875],\n",
              "       [0.03115968],\n",
              "       [0.00454025],\n",
              "       [0.        ],\n",
              "       [0.06016177],\n",
              "       [0.02753403],\n",
              "       [0.03650508],\n",
              "       [0.03889394],\n",
              "       [0.0645901 ],\n",
              "       [0.11968165],\n",
              "       [0.13047511],\n",
              "       [0.1550056 ],\n",
              "       [0.2054697 ],\n",
              "       [0.20981269],\n",
              "       [0.21225226],\n",
              "       [0.19951642],\n",
              "       [0.21859575],\n",
              "       [0.20467135],\n",
              "       [0.19194355],\n",
              "       [0.18233061],\n",
              "       [0.18668967],\n",
              "       [0.18987502],\n",
              "       [0.16280912],\n",
              "       [0.13425598],\n",
              "       [0.14026863],\n",
              "       [0.13010964],\n",
              "       [0.10002226],\n",
              "       [0.13146825],\n",
              "       [0.15178314],\n",
              "       [0.14690957],\n",
              "       [0.12876092],\n",
              "       [0.14022472],\n",
              "       [0.15461848],\n",
              "       [0.17534769],\n",
              "       [0.14765597],\n",
              "       [0.1158408 ],\n",
              "       [0.12260171],\n",
              "       [0.10321627],\n",
              "       [0.13174097],\n",
              "       [0.12992474],\n",
              "       [0.1413669 ],\n",
              "       [0.09905509],\n",
              "       [0.08964065],\n",
              "       [0.09251866],\n",
              "       [0.06376825],\n",
              "       [0.10575293],\n",
              "       [0.11313656],\n",
              "       [0.12010587],\n",
              "       [0.13565541],\n",
              "       [0.10421869],\n",
              "       [0.1250085 ],\n",
              "       [0.14124075],\n",
              "       [0.12557186],\n",
              "       [0.12122207],\n",
              "       [0.11671026],\n",
              "       [0.12764596],\n",
              "       [0.16399211],\n",
              "       [0.15844944],\n",
              "       [0.16946243],\n",
              "       [0.16674087],\n",
              "       [0.18824184],\n",
              "       [0.19778491],\n",
              "       [0.19952013],\n",
              "       [0.2174746 ],\n",
              "       [0.21823151],\n",
              "       [0.19212041],\n",
              "       [0.14037005],\n",
              "       [0.11825749],\n",
              "       [0.09947684],\n",
              "       [0.10597246],\n",
              "       [0.07701921],\n",
              "       [0.06515964],\n",
              "       [0.09453896],\n",
              "       [0.08855537],\n",
              "       [0.08989728],\n",
              "       [0.10973044],\n",
              "       [0.13318616],\n",
              "       [0.14420595],\n",
              "       [0.12906332],\n",
              "       [0.10361266],\n",
              "       [0.07532605],\n",
              "       [0.0888188 ],\n",
              "       [0.10549444],\n",
              "       [0.08596429],\n",
              "       [0.10964139],\n",
              "       [0.11129003],\n",
              "       [0.12953948],\n",
              "       [0.10012615],\n",
              "       [0.10891416],\n",
              "       [0.11909418],\n",
              "       [0.12806585],\n",
              "       [0.13877706],\n",
              "       [0.18321367],\n",
              "       [0.19080385],\n",
              "       [0.19770885],\n",
              "       [0.18438801],\n",
              "       [0.1816646 ],\n",
              "       [0.18540836],\n",
              "       [0.19157561],\n",
              "       [0.19071975],\n",
              "       [0.202575  ],\n",
              "       [0.17792454],\n",
              "       [0.18702546],\n",
              "       [0.19879351],\n",
              "       [0.21386194],\n",
              "       [0.2183991 ],\n",
              "       [0.20298375],\n",
              "       [0.19181369],\n",
              "       [0.23681119],\n",
              "       [0.25689665],\n",
              "       [0.25671917],\n",
              "       [0.27860169],\n",
              "       [0.26124767],\n",
              "       [0.26051735],\n",
              "       [0.25211769],\n",
              "       [0.23098405],\n",
              "       [0.22237105],\n",
              "       [0.23260796],\n",
              "       [0.24264883],\n",
              "       [0.19550118],\n",
              "       [0.21508079],\n",
              "       [0.2086464 ],\n",
              "       [0.18205171],\n",
              "       [0.18139436],\n",
              "       [0.17946311],\n",
              "       [0.1798898 ],\n",
              "       [0.16775628],\n",
              "       [0.20702311],\n",
              "       [0.21626626],\n",
              "       [0.23651003],\n",
              "       [0.24099463],\n",
              "       [0.19176978],\n",
              "       [0.19531257],\n",
              "       [0.17624993],\n",
              "       [0.18371828],\n",
              "       [0.16051055],\n",
              "       [0.15065952],\n",
              "       [0.1059941 ],\n",
              "       [0.11467142],\n",
              "       [0.09006611],\n",
              "       [0.10540663],\n",
              "       [0.07542437],\n",
              "       [0.09265161],\n",
              "       [0.14066502],\n",
              "       [0.14860026],\n",
              "       [0.16039738],\n",
              "       [0.14832693],\n",
              "       [0.10412036],\n",
              "       [0.10384703],\n",
              "       [0.0939892 ],\n",
              "       [0.1467593 ],\n",
              "       [0.12728172],\n",
              "       [0.15080237],\n",
              "       [0.157063  ],\n",
              "       [0.14157715],\n",
              "       [0.13438028],\n",
              "       [0.13959458],\n",
              "       [0.15662394],\n",
              "       [0.16785151],\n",
              "       [0.16249621],\n",
              "       [0.14765226],\n",
              "       [0.17747497],\n",
              "       [0.18313081],\n",
              "       [0.18217044],\n",
              "       [0.15349857],\n",
              "       [0.17377573],\n",
              "       [0.19507758],\n",
              "       [0.18545041],\n",
              "       [0.16873334],\n",
              "       [0.21928526],\n",
              "       [0.20072723],\n",
              "       [0.20237835],\n",
              "       [0.20473629],\n",
              "       [0.19869271],\n",
              "       [0.19678806],\n",
              "       [0.19957207],\n",
              "       [0.21014353],\n",
              "       [0.22667631],\n",
              "       [0.22048866],\n",
              "       [0.21305555],\n",
              "       [0.20470784],\n",
              "       [0.20106859],\n",
              "       [0.2169669 ],\n",
              "       [0.18925168],\n",
              "       [0.19187986],\n",
              "       [0.19592849],\n",
              "       [0.18359337],\n",
              "       [0.1766692 ],\n",
              "       [0.19686474],\n",
              "       [0.193236  ],\n",
              "       [0.20019418],\n",
              "       [0.21264617],\n",
              "       [0.20618333],\n",
              "       [0.17374358],\n",
              "       [0.15584228],\n",
              "       [0.11443395],\n",
              "       [0.10328368],\n",
              "       [0.11071369],\n",
              "       [0.09385501],\n",
              "       [0.10440606],\n",
              "       [0.10700332],\n",
              "       [0.10036362],\n",
              "       [0.08509978],\n",
              "       [0.0851511 ],\n",
              "       [0.06179804],\n",
              "       [0.06822564],\n",
              "       [0.07769017],\n",
              "       [0.09016381],\n",
              "       [0.10688768],\n",
              "       [0.10712391],\n",
              "       [0.08669833],\n",
              "       [0.06831964],\n",
              "       [0.08788317],\n",
              "       [0.12822972],\n",
              "       [0.10436649],\n",
              "       [0.11353728],\n",
              "       [0.13533631],\n",
              "       [0.1596485 ],\n",
              "       [0.16557396],\n",
              "       [0.16357902],\n",
              "       [0.16480406],\n",
              "       [0.16794798],\n",
              "       [0.16137506],\n",
              "       [0.16259763],\n",
              "       [0.16600931],\n",
              "       [0.17265149],\n",
              "       [0.1840417 ],\n",
              "       [0.18353586],\n",
              "       [0.17864992],\n",
              "       [0.17728265],\n",
              "       [0.1826398 ],\n",
              "       [0.167572  ],\n",
              "       [0.17842173],\n",
              "       [0.17218151],\n",
              "       [0.18421424],\n",
              "       [0.17287844],\n",
              "       [0.17404164],\n",
              "       [0.17040301],\n",
              "       [0.14759785],\n",
              "       [0.16918972],\n",
              "       [0.16736422],\n",
              "       [0.16869995],\n",
              "       [0.1730887 ],\n",
              "       [0.17199661],\n",
              "       [0.19850101],\n",
              "       [0.21769042],\n",
              "       [0.22210452],\n",
              "       [0.23045471],\n",
              "       [0.2415215 ],\n",
              "       [0.21188926],\n",
              "       [0.19265656],\n",
              "       [0.15487759],\n",
              "       [0.15533767],\n",
              "       [0.14180287],\n",
              "       [0.16178815],\n",
              "       [0.13778701],\n",
              "       [0.17000167],\n",
              "       [0.16709521],\n",
              "       [0.16497041],\n",
              "       [0.17063614],\n",
              "       [0.17319506],\n",
              "       [0.19579924],\n",
              "       [0.18956273],\n",
              "       [0.20555133],\n",
              "       [0.21462133],\n",
              "       [0.22076013],\n",
              "       [0.19143832],\n",
              "       [0.17037394],\n",
              "       [0.17319877],\n",
              "       [0.18033195],\n",
              "       [0.19824747],\n",
              "       [0.20810035],\n",
              "       [0.21269317],\n",
              "       [0.23350216],\n",
              "       [0.23481995],\n",
              "       [0.24372793],\n",
              "       [0.24050795],\n",
              "       [0.24365001],\n",
              "       [0.23788657],\n",
              "       [0.23968919],\n",
              "       [0.24133103],\n",
              "       [0.22874052],\n",
              "       [0.23128892],\n",
              "       [0.25594803],\n",
              "       [0.27244309],\n",
              "       [0.27459325],\n",
              "       [0.26172631],\n",
              "       [0.27984157],\n",
              "       [0.27238125],\n",
              "       [0.272662  ],\n",
              "       [0.28883797],\n",
              "       [0.30355824],\n",
              "       [0.31695577],\n",
              "       [0.33245274],\n",
              "       [0.36215671],\n",
              "       [0.37665312],\n",
              "       [0.39387356],\n",
              "       [0.38589318],\n",
              "       [0.36888176],\n",
              "       [0.37620664],\n",
              "       [0.38332931],\n",
              "       [0.40294665],\n",
              "       [0.4087979 ],\n",
              "       [0.38157122],\n",
              "       [0.39765752],\n",
              "       [0.42092215],\n",
              "       [0.46378989],\n",
              "       [0.48168315],\n",
              "       [0.44500986],\n",
              "       [0.42816046],\n",
              "       [0.46674211],\n",
              "       [0.47718247],\n",
              "       [0.51333692],\n",
              "       [0.543253  ],\n",
              "       [0.54220606],\n",
              "       [0.55584723],\n",
              "       [0.53509019],\n",
              "       [0.5362336 ],\n",
              "       [0.54774997],\n",
              "       [0.52856365],\n",
              "       [0.49867416],\n",
              "       [0.49355818],\n",
              "       [0.48363418],\n",
              "       [0.52417985],\n",
              "       [0.52666271],\n",
              "       [0.52387375],\n",
              "       [0.55876915],\n",
              "       [0.53831203],\n",
              "       [0.53312864],\n",
              "       [0.49814729],\n",
              "       [0.47436383],\n",
              "       [0.46207694],\n",
              "       [0.4629328 ],\n",
              "       [0.4468768 ],\n",
              "       [0.47627528],\n",
              "       [0.47453945],\n",
              "       [0.48088604],\n",
              "       [0.50575416],\n",
              "       [0.48067764],\n",
              "       [0.4691588 ],\n",
              "       [0.4936899 ],\n",
              "       [0.4925502 ],\n",
              "       [0.49167393],\n",
              "       [0.50545301],\n",
              "       [0.49729452],\n",
              "       [0.52283361],\n",
              "       [0.54165507],\n",
              "       [0.49410732],\n",
              "       [0.46019393],\n",
              "       [0.4622637 ],\n",
              "       [0.46608599],\n",
              "       [0.47367555],\n",
              "       [0.4629798 ],\n",
              "       [0.47963441],\n",
              "       [0.45404894],\n",
              "       [0.46511697],\n",
              "       [0.43592441],\n",
              "       [0.42721617],\n",
              "       [0.41637942],\n",
              "       [0.42348354],\n",
              "       [0.44148316],\n",
              "       [0.45097861],\n",
              "       [0.46810505],\n",
              "       [0.42710981],\n",
              "       [0.46085623],\n",
              "       [0.46437984],\n",
              "       [0.47096513],\n",
              "       [0.4886438 ],\n",
              "       [0.49428851],\n",
              "       [0.50842254],\n",
              "       [0.51445683],\n",
              "       [0.52708816],\n",
              "       [0.51163201],\n",
              "       [0.4878708 ],\n",
              "       [0.47927017],\n",
              "       [0.49835445],\n",
              "       [0.49403496],\n",
              "       [0.52257883],\n",
              "       [0.54514962],\n",
              "       [0.52718525],\n",
              "       [0.51365416],\n",
              "       [0.48565633],\n",
              "       [0.47522896],\n",
              "       [0.49230964],\n",
              "       [0.46982666],\n",
              "       [0.47334224],\n",
              "       [0.44246084],\n",
              "       [0.44153943],\n",
              "       [0.43549524],\n",
              "       [0.40321874],\n",
              "       [0.35924717],\n",
              "       [0.39316488],\n",
              "       [0.38817506],\n",
              "       [0.43466968],\n",
              "       [0.44641795],\n",
              "       [0.48093365],\n",
              "       [0.46988479],\n",
              "       [0.42925873],\n",
              "       [0.45283565],\n",
              "       [0.45295685],\n",
              "       [0.41513398],\n",
              "       [0.40454335],\n",
              "       [0.38847683],\n",
              "       [0.39236035],\n",
              "       [0.40519637],\n",
              "       [0.36387894],\n",
              "       [0.38799077],\n",
              "       [0.36976482],\n",
              "       [0.37977602],\n",
              "       [0.42571038],\n",
              "       [0.44724536],\n",
              "       [0.49415617],\n",
              "       [0.46715334],\n",
              "       [0.46063917],\n",
              "       [0.49032089],\n",
              "       [0.48547576],\n",
              "       [0.48652703],\n",
              "       [0.49338008],\n",
              "       [0.54432159],\n",
              "       [0.53842891],\n",
              "       [0.54837208],\n",
              "       [0.53617919],\n",
              "       [0.53408345],\n",
              "       [0.54012454],\n",
              "       [0.55086606],\n",
              "       [0.53986729],\n",
              "       [0.53743824],\n",
              "       [0.53204769],\n",
              "       [0.54229264],\n",
              "       [0.53886797],\n",
              "       [0.52648523],\n",
              "       [0.49832044],\n",
              "       [0.53975784],\n",
              "       [0.50342158],\n",
              "       [0.46938204],\n",
              "       [0.49930863],\n",
              "       [0.5025181 ],\n",
              "       [0.50762914],\n",
              "       [0.49278148],\n",
              "       [0.51036244],\n",
              "       [0.49727906],\n",
              "       [0.52575058],\n",
              "       [0.55398339],\n",
              "       [0.52087021],\n",
              "       [0.52263758],\n",
              "       [0.5278927 ],\n",
              "       [0.53109722],\n",
              "       [0.55431114],\n",
              "       [0.54555343],\n",
              "       [0.54088764],\n",
              "       [0.53001132],\n",
              "       [0.53552307],\n",
              "       [0.55937827],\n",
              "       [0.60133882],\n",
              "       [0.63894588],\n",
              "       [0.67155075],\n",
              "       [0.69162879],\n",
              "       [0.67415234],\n",
              "       [0.66540638],\n",
              "       [0.66469028],\n",
              "       [0.69543068],\n",
              "       [0.73152515],\n",
              "       [0.7297083 ],\n",
              "       [0.71170745],\n",
              "       [0.71232523],\n",
              "       [0.68230834],\n",
              "       [0.699368  ],\n",
              "       [0.70177479],\n",
              "       [0.71543204],\n",
              "       [0.69841073],\n",
              "       [0.70747392],\n",
              "       [0.71960311],\n",
              "       [0.70763718],\n",
              "       [0.70511784],\n",
              "       [0.75108683],\n",
              "       [0.75319803],\n",
              "       [0.81915292],\n",
              "       [0.80303446],\n",
              "       [0.83114793],\n",
              "       [0.85151167],\n",
              "       [0.85046905],\n",
              "       [0.84386645],\n",
              "       [0.83759284],\n",
              "       [0.8893228 ],\n",
              "       [0.89767298],\n",
              "       [0.89803227],\n",
              "       [0.89608494],\n",
              "       [0.89349758],\n",
              "       [0.93954511],\n",
              "       [0.95181468],\n",
              "       [0.95109734],\n",
              "       [0.95067374],\n",
              "       [0.92024439],\n",
              "       [0.92582417],\n",
              "       [0.87211967],\n",
              "       [0.8706986 ],\n",
              "       [0.86441942],\n",
              "       [0.87130896],\n",
              "       [0.86514109],\n",
              "       [0.9290089 ],\n",
              "       [0.94528258],\n",
              "       [0.99549994],\n",
              "       [1.        ],\n",
              "       [0.97066892],\n",
              "       [0.96967392],\n",
              "       [0.99222678],\n",
              "       [0.95545331],\n",
              "       [0.96790593],\n",
              "       [0.93288314],\n",
              "       [0.93509823],\n",
              "       [0.91116264],\n",
              "       [0.93103105],\n",
              "       [0.88273071],\n",
              "       [0.90468125],\n",
              "       [0.93103043],\n",
              "       [0.9191993 ],\n",
              "       [0.91059248],\n",
              "       [0.91559653],\n",
              "       [0.89761671],\n",
              "       [0.85051976],\n",
              "       [0.81901873],\n",
              "       [0.82630961],\n",
              "       [0.76376825],\n",
              "       [0.78666494],\n",
              "       [0.79368681],\n",
              "       [0.84983211],\n",
              "       [0.7984064 ],\n",
              "       [0.81734659],\n",
              "       [0.8464668 ],\n",
              "       [0.83832811],\n",
              "       [0.83597944],\n",
              "       [0.87302315],\n",
              "       [0.83389545],\n",
              "       [0.82595588],\n",
              "       [0.83554904],\n",
              "       [0.83247871],\n",
              "       [0.84339956]])"
            ]
          },
          "execution_count": 16,
          "metadata": {},
          "output_type": "execute_result"
        }
      ],
      "source": [
        "data_training_array = scaler.fit_transform(train_close)\n",
        "data_training_array"
      ]
    },
    {
      "cell_type": "code",
      "execution_count": 17,
      "id": "10227978",
      "metadata": {
        "id": "10227978"
      },
      "outputs": [],
      "source": [
        "x_train = []\n",
        "y_train = [] \n",
        "\n",
        "for i in range(100, data_training_array.shape[0]):\n",
        "    x_train.append(data_training_array[i-100: i])\n",
        "    y_train.append(data_training_array[i, 0])\n",
        "\n",
        "x_train, y_train = np.array(x_train), np.array(y_train) "
      ]
    },
    {
      "cell_type": "code",
      "execution_count": 18,
      "id": "0ea6446e",
      "metadata": {
        "colab": {
          "base_uri": "https://localhost:8080/"
        },
        "id": "0ea6446e",
        "outputId": "d7be262a-4cd6-4bbf-9f50-a13e111cc2ac"
      },
      "outputs": [
        {
          "data": {
            "text/plain": [
              "(477, 100, 1)"
            ]
          },
          "execution_count": 18,
          "metadata": {},
          "output_type": "execute_result"
        }
      ],
      "source": [
        "x_train.shape"
      ]
    },
    {
      "cell_type": "markdown",
      "id": "dsMIlQ8DnVOJ",
      "metadata": {
        "id": "dsMIlQ8DnVOJ"
      },
      "source": [
        "# ML Model (LSTM)\n",
        "\n",
        "---\n",
        "\n"
      ]
    },
    {
      "cell_type": "code",
      "execution_count": 19,
      "id": "e60ed317",
      "metadata": {
        "id": "e60ed317"
      },
      "outputs": [],
      "source": [
        "from tensorflow.keras.layers import Dense, Dropout, LSTM\n",
        "from tensorflow.keras.models import Sequential"
      ]
    },
    {
      "cell_type": "code",
      "execution_count": 20,
      "id": "17082610",
      "metadata": {
        "colab": {
          "base_uri": "https://localhost:8080/"
        },
        "id": "17082610",
        "outputId": "1bdf1b3b-dc08-4afe-9b51-d12fb3f1a874"
      },
      "outputs": [
        {
          "name": "stderr",
          "output_type": "stream",
          "text": [
            "/Library/Frameworks/Python.framework/Versions/3.12/lib/python3.12/site-packages/keras/src/layers/rnn/rnn.py:199: UserWarning: Do not pass an `input_shape`/`input_dim` argument to a layer. When using Sequential models, prefer using an `Input(shape)` object as the first layer in the model instead.\n",
            "  super().__init__(**kwargs)\n"
          ]
        }
      ],
      "source": [
        "model = Sequential()\n",
        "model.add(LSTM(units = 50, activation = 'relu', return_sequences=True\n",
        "              ,input_shape = (x_train.shape[1], 1)))\n",
        "model.add(Dropout(0.2))\n",
        "\n",
        "\n",
        "model.add(LSTM(units = 60, activation = 'relu', return_sequences=True))\n",
        "model.add(Dropout(0.3))\n",
        "\n",
        "\n",
        "model.add(LSTM(units = 80, activation = 'relu', return_sequences=True))\n",
        "model.add(Dropout(0.4))\n",
        "\n",
        "\n",
        "model.add(LSTM(units = 120, activation = 'relu'))\n",
        "model.add(Dropout(0.5))\n",
        "\n",
        "model.add(Dense(units = 1))"
      ]
    },
    {
      "cell_type": "code",
      "execution_count": 21,
      "id": "5f5a1db3",
      "metadata": {
        "colab": {
          "base_uri": "https://localhost:8080/"
        },
        "id": "5f5a1db3",
        "outputId": "fa46e211-69af-428f-beb2-73283a533bab"
      },
      "outputs": [
        {
          "data": {
            "text/html": [
              "<pre style=\"white-space:pre;overflow-x:auto;line-height:normal;font-family:Menlo,'DejaVu Sans Mono',consolas,'Courier New',monospace\"><span style=\"font-weight: bold\">Model: \"sequential\"</span>\n",
              "</pre>\n"
            ],
            "text/plain": [
              "\u001b[1mModel: \"sequential\"\u001b[0m\n"
            ]
          },
          "metadata": {},
          "output_type": "display_data"
        },
        {
          "data": {
            "text/html": [
              "<pre style=\"white-space:pre;overflow-x:auto;line-height:normal;font-family:Menlo,'DejaVu Sans Mono',consolas,'Courier New',monospace\">┏━━━━━━━━━━━━━━━━━━━━━━━━━━━━━━━━━┳━━━━━━━━━━━━━━━━━━━━━━━━┳━━━━━━━━━━━━━━━┓\n",
              "┃<span style=\"font-weight: bold\"> Layer (type)                    </span>┃<span style=\"font-weight: bold\"> Output Shape           </span>┃<span style=\"font-weight: bold\">       Param # </span>┃\n",
              "┡━━━━━━━━━━━━━━━━━━━━━━━━━━━━━━━━━╇━━━━━━━━━━━━━━━━━━━━━━━━╇━━━━━━━━━━━━━━━┩\n",
              "│ lstm (<span style=\"color: #0087ff; text-decoration-color: #0087ff\">LSTM</span>)                     │ (<span style=\"color: #00d7ff; text-decoration-color: #00d7ff\">None</span>, <span style=\"color: #00af00; text-decoration-color: #00af00\">100</span>, <span style=\"color: #00af00; text-decoration-color: #00af00\">50</span>)        │        <span style=\"color: #00af00; text-decoration-color: #00af00\">10,400</span> │\n",
              "├─────────────────────────────────┼────────────────────────┼───────────────┤\n",
              "│ dropout (<span style=\"color: #0087ff; text-decoration-color: #0087ff\">Dropout</span>)               │ (<span style=\"color: #00d7ff; text-decoration-color: #00d7ff\">None</span>, <span style=\"color: #00af00; text-decoration-color: #00af00\">100</span>, <span style=\"color: #00af00; text-decoration-color: #00af00\">50</span>)        │             <span style=\"color: #00af00; text-decoration-color: #00af00\">0</span> │\n",
              "├─────────────────────────────────┼────────────────────────┼───────────────┤\n",
              "│ lstm_1 (<span style=\"color: #0087ff; text-decoration-color: #0087ff\">LSTM</span>)                   │ (<span style=\"color: #00d7ff; text-decoration-color: #00d7ff\">None</span>, <span style=\"color: #00af00; text-decoration-color: #00af00\">100</span>, <span style=\"color: #00af00; text-decoration-color: #00af00\">60</span>)        │        <span style=\"color: #00af00; text-decoration-color: #00af00\">26,640</span> │\n",
              "├─────────────────────────────────┼────────────────────────┼───────────────┤\n",
              "│ dropout_1 (<span style=\"color: #0087ff; text-decoration-color: #0087ff\">Dropout</span>)             │ (<span style=\"color: #00d7ff; text-decoration-color: #00d7ff\">None</span>, <span style=\"color: #00af00; text-decoration-color: #00af00\">100</span>, <span style=\"color: #00af00; text-decoration-color: #00af00\">60</span>)        │             <span style=\"color: #00af00; text-decoration-color: #00af00\">0</span> │\n",
              "├─────────────────────────────────┼────────────────────────┼───────────────┤\n",
              "│ lstm_2 (<span style=\"color: #0087ff; text-decoration-color: #0087ff\">LSTM</span>)                   │ (<span style=\"color: #00d7ff; text-decoration-color: #00d7ff\">None</span>, <span style=\"color: #00af00; text-decoration-color: #00af00\">100</span>, <span style=\"color: #00af00; text-decoration-color: #00af00\">80</span>)        │        <span style=\"color: #00af00; text-decoration-color: #00af00\">45,120</span> │\n",
              "├─────────────────────────────────┼────────────────────────┼───────────────┤\n",
              "│ dropout_2 (<span style=\"color: #0087ff; text-decoration-color: #0087ff\">Dropout</span>)             │ (<span style=\"color: #00d7ff; text-decoration-color: #00d7ff\">None</span>, <span style=\"color: #00af00; text-decoration-color: #00af00\">100</span>, <span style=\"color: #00af00; text-decoration-color: #00af00\">80</span>)        │             <span style=\"color: #00af00; text-decoration-color: #00af00\">0</span> │\n",
              "├─────────────────────────────────┼────────────────────────┼───────────────┤\n",
              "│ lstm_3 (<span style=\"color: #0087ff; text-decoration-color: #0087ff\">LSTM</span>)                   │ (<span style=\"color: #00d7ff; text-decoration-color: #00d7ff\">None</span>, <span style=\"color: #00af00; text-decoration-color: #00af00\">120</span>)            │        <span style=\"color: #00af00; text-decoration-color: #00af00\">96,480</span> │\n",
              "├─────────────────────────────────┼────────────────────────┼───────────────┤\n",
              "│ dropout_3 (<span style=\"color: #0087ff; text-decoration-color: #0087ff\">Dropout</span>)             │ (<span style=\"color: #00d7ff; text-decoration-color: #00d7ff\">None</span>, <span style=\"color: #00af00; text-decoration-color: #00af00\">120</span>)            │             <span style=\"color: #00af00; text-decoration-color: #00af00\">0</span> │\n",
              "├─────────────────────────────────┼────────────────────────┼───────────────┤\n",
              "│ dense (<span style=\"color: #0087ff; text-decoration-color: #0087ff\">Dense</span>)                   │ (<span style=\"color: #00d7ff; text-decoration-color: #00d7ff\">None</span>, <span style=\"color: #00af00; text-decoration-color: #00af00\">1</span>)              │           <span style=\"color: #00af00; text-decoration-color: #00af00\">121</span> │\n",
              "└─────────────────────────────────┴────────────────────────┴───────────────┘\n",
              "</pre>\n"
            ],
            "text/plain": [
              "┏━━━━━━━━━━━━━━━━━━━━━━━━━━━━━━━━━┳━━━━━━━━━━━━━━━━━━━━━━━━┳━━━━━━━━━━━━━━━┓\n",
              "┃\u001b[1m \u001b[0m\u001b[1mLayer (type)                   \u001b[0m\u001b[1m \u001b[0m┃\u001b[1m \u001b[0m\u001b[1mOutput Shape          \u001b[0m\u001b[1m \u001b[0m┃\u001b[1m \u001b[0m\u001b[1m      Param #\u001b[0m\u001b[1m \u001b[0m┃\n",
              "┡━━━━━━━━━━━━━━━━━━━━━━━━━━━━━━━━━╇━━━━━━━━━━━━━━━━━━━━━━━━╇━━━━━━━━━━━━━━━┩\n",
              "│ lstm (\u001b[38;5;33mLSTM\u001b[0m)                     │ (\u001b[38;5;45mNone\u001b[0m, \u001b[38;5;34m100\u001b[0m, \u001b[38;5;34m50\u001b[0m)        │        \u001b[38;5;34m10,400\u001b[0m │\n",
              "├─────────────────────────────────┼────────────────────────┼───────────────┤\n",
              "│ dropout (\u001b[38;5;33mDropout\u001b[0m)               │ (\u001b[38;5;45mNone\u001b[0m, \u001b[38;5;34m100\u001b[0m, \u001b[38;5;34m50\u001b[0m)        │             \u001b[38;5;34m0\u001b[0m │\n",
              "├─────────────────────────────────┼────────────────────────┼───────────────┤\n",
              "│ lstm_1 (\u001b[38;5;33mLSTM\u001b[0m)                   │ (\u001b[38;5;45mNone\u001b[0m, \u001b[38;5;34m100\u001b[0m, \u001b[38;5;34m60\u001b[0m)        │        \u001b[38;5;34m26,640\u001b[0m │\n",
              "├─────────────────────────────────┼────────────────────────┼───────────────┤\n",
              "│ dropout_1 (\u001b[38;5;33mDropout\u001b[0m)             │ (\u001b[38;5;45mNone\u001b[0m, \u001b[38;5;34m100\u001b[0m, \u001b[38;5;34m60\u001b[0m)        │             \u001b[38;5;34m0\u001b[0m │\n",
              "├─────────────────────────────────┼────────────────────────┼───────────────┤\n",
              "│ lstm_2 (\u001b[38;5;33mLSTM\u001b[0m)                   │ (\u001b[38;5;45mNone\u001b[0m, \u001b[38;5;34m100\u001b[0m, \u001b[38;5;34m80\u001b[0m)        │        \u001b[38;5;34m45,120\u001b[0m │\n",
              "├─────────────────────────────────┼────────────────────────┼───────────────┤\n",
              "│ dropout_2 (\u001b[38;5;33mDropout\u001b[0m)             │ (\u001b[38;5;45mNone\u001b[0m, \u001b[38;5;34m100\u001b[0m, \u001b[38;5;34m80\u001b[0m)        │             \u001b[38;5;34m0\u001b[0m │\n",
              "├─────────────────────────────────┼────────────────────────┼───────────────┤\n",
              "│ lstm_3 (\u001b[38;5;33mLSTM\u001b[0m)                   │ (\u001b[38;5;45mNone\u001b[0m, \u001b[38;5;34m120\u001b[0m)            │        \u001b[38;5;34m96,480\u001b[0m │\n",
              "├─────────────────────────────────┼────────────────────────┼───────────────┤\n",
              "│ dropout_3 (\u001b[38;5;33mDropout\u001b[0m)             │ (\u001b[38;5;45mNone\u001b[0m, \u001b[38;5;34m120\u001b[0m)            │             \u001b[38;5;34m0\u001b[0m │\n",
              "├─────────────────────────────────┼────────────────────────┼───────────────┤\n",
              "│ dense (\u001b[38;5;33mDense\u001b[0m)                   │ (\u001b[38;5;45mNone\u001b[0m, \u001b[38;5;34m1\u001b[0m)              │           \u001b[38;5;34m121\u001b[0m │\n",
              "└─────────────────────────────────┴────────────────────────┴───────────────┘\n"
            ]
          },
          "metadata": {},
          "output_type": "display_data"
        },
        {
          "data": {
            "text/html": [
              "<pre style=\"white-space:pre;overflow-x:auto;line-height:normal;font-family:Menlo,'DejaVu Sans Mono',consolas,'Courier New',monospace\"><span style=\"font-weight: bold\"> Total params: </span><span style=\"color: #00af00; text-decoration-color: #00af00\">178,761</span> (698.29 KB)\n",
              "</pre>\n"
            ],
            "text/plain": [
              "\u001b[1m Total params: \u001b[0m\u001b[38;5;34m178,761\u001b[0m (698.29 KB)\n"
            ]
          },
          "metadata": {},
          "output_type": "display_data"
        },
        {
          "data": {
            "text/html": [
              "<pre style=\"white-space:pre;overflow-x:auto;line-height:normal;font-family:Menlo,'DejaVu Sans Mono',consolas,'Courier New',monospace\"><span style=\"font-weight: bold\"> Trainable params: </span><span style=\"color: #00af00; text-decoration-color: #00af00\">178,761</span> (698.29 KB)\n",
              "</pre>\n"
            ],
            "text/plain": [
              "\u001b[1m Trainable params: \u001b[0m\u001b[38;5;34m178,761\u001b[0m (698.29 KB)\n"
            ]
          },
          "metadata": {},
          "output_type": "display_data"
        },
        {
          "data": {
            "text/html": [
              "<pre style=\"white-space:pre;overflow-x:auto;line-height:normal;font-family:Menlo,'DejaVu Sans Mono',consolas,'Courier New',monospace\"><span style=\"font-weight: bold\"> Non-trainable params: </span><span style=\"color: #00af00; text-decoration-color: #00af00\">0</span> (0.00 B)\n",
              "</pre>\n"
            ],
            "text/plain": [
              "\u001b[1m Non-trainable params: \u001b[0m\u001b[38;5;34m0\u001b[0m (0.00 B)\n"
            ]
          },
          "metadata": {},
          "output_type": "display_data"
        }
      ],
      "source": [
        "model.summary()"
      ]
    },
    {
      "cell_type": "code",
      "execution_count": 22,
      "id": "d30cc692",
      "metadata": {},
      "outputs": [
        {
          "name": "stdout",
          "output_type": "stream",
          "text": [
            "Epoch 1/100\n",
            "\u001b[1m15/15\u001b[0m \u001b[32m━━━━━━━━━━━━━━━━━━━━\u001b[0m\u001b[37m\u001b[0m \u001b[1m4s\u001b[0m 116ms/step - loss: 0.1662 - mean_absolute_error: 0.3243\n",
            "Epoch 2/100\n",
            "\u001b[1m15/15\u001b[0m \u001b[32m━━━━━━━━━━━━━━━━━━━━\u001b[0m\u001b[37m\u001b[0m \u001b[1m2s\u001b[0m 118ms/step - loss: 0.0381 - mean_absolute_error: 0.1519\n",
            "Epoch 3/100\n",
            "\u001b[1m15/15\u001b[0m \u001b[32m━━━━━━━━━━━━━━━━━━━━\u001b[0m\u001b[37m\u001b[0m \u001b[1m2s\u001b[0m 118ms/step - loss: 0.0187 - mean_absolute_error: 0.1041\n",
            "Epoch 4/100\n",
            "\u001b[1m15/15\u001b[0m \u001b[32m━━━━━━━━━━━━━━━━━━━━\u001b[0m\u001b[37m\u001b[0m \u001b[1m2s\u001b[0m 121ms/step - loss: 0.0160 - mean_absolute_error: 0.0934\n",
            "Epoch 5/100\n",
            "\u001b[1m15/15\u001b[0m \u001b[32m━━━━━━━━━━━━━━━━━━━━\u001b[0m\u001b[37m\u001b[0m \u001b[1m2s\u001b[0m 117ms/step - loss: 0.0122 - mean_absolute_error: 0.0801\n",
            "Epoch 6/100\n",
            "\u001b[1m15/15\u001b[0m \u001b[32m━━━━━━━━━━━━━━━━━━━━\u001b[0m\u001b[37m\u001b[0m \u001b[1m2s\u001b[0m 116ms/step - loss: 0.0115 - mean_absolute_error: 0.0756\n",
            "Epoch 7/100\n",
            "\u001b[1m15/15\u001b[0m \u001b[32m━━━━━━━━━━━━━━━━━━━━\u001b[0m\u001b[37m\u001b[0m \u001b[1m2s\u001b[0m 116ms/step - loss: 0.0104 - mean_absolute_error: 0.0725\n",
            "Epoch 8/100\n",
            "\u001b[1m15/15\u001b[0m \u001b[32m━━━━━━━━━━━━━━━━━━━━\u001b[0m\u001b[37m\u001b[0m \u001b[1m2s\u001b[0m 125ms/step - loss: 0.0128 - mean_absolute_error: 0.0834\n",
            "Epoch 9/100\n",
            "\u001b[1m15/15\u001b[0m \u001b[32m━━━━━━━━━━━━━━━━━━━━\u001b[0m\u001b[37m\u001b[0m \u001b[1m2s\u001b[0m 122ms/step - loss: 0.0128 - mean_absolute_error: 0.0823\n",
            "Epoch 10/100\n",
            "\u001b[1m15/15\u001b[0m \u001b[32m━━━━━━━━━━━━━━━━━━━━\u001b[0m\u001b[37m\u001b[0m \u001b[1m2s\u001b[0m 133ms/step - loss: 0.0105 - mean_absolute_error: 0.0734\n",
            "Epoch 11/100\n",
            "\u001b[1m15/15\u001b[0m \u001b[32m━━━━━━━━━━━━━━━━━━━━\u001b[0m\u001b[37m\u001b[0m \u001b[1m2s\u001b[0m 136ms/step - loss: 0.0086 - mean_absolute_error: 0.0690\n",
            "Epoch 12/100\n",
            "\u001b[1m15/15\u001b[0m \u001b[32m━━━━━━━━━━━━━━━━━━━━\u001b[0m\u001b[37m\u001b[0m \u001b[1m2s\u001b[0m 125ms/step - loss: 0.0094 - mean_absolute_error: 0.0720\n",
            "Epoch 13/100\n",
            "\u001b[1m15/15\u001b[0m \u001b[32m━━━━━━━━━━━━━━━━━━━━\u001b[0m\u001b[37m\u001b[0m \u001b[1m2s\u001b[0m 122ms/step - loss: 0.0079 - mean_absolute_error: 0.0678\n",
            "Epoch 14/100\n",
            "\u001b[1m15/15\u001b[0m \u001b[32m━━━━━━━━━━━━━━━━━━━━\u001b[0m\u001b[37m\u001b[0m \u001b[1m2s\u001b[0m 120ms/step - loss: 0.0096 - mean_absolute_error: 0.0715\n",
            "Epoch 15/100\n",
            "\u001b[1m15/15\u001b[0m \u001b[32m━━━━━━━━━━━━━━━━━━━━\u001b[0m\u001b[37m\u001b[0m \u001b[1m2s\u001b[0m 124ms/step - loss: 0.0097 - mean_absolute_error: 0.0725\n",
            "Epoch 16/100\n",
            "\u001b[1m15/15\u001b[0m \u001b[32m━━━━━━━━━━━━━━━━━━━━\u001b[0m\u001b[37m\u001b[0m \u001b[1m2s\u001b[0m 118ms/step - loss: 0.0089 - mean_absolute_error: 0.0689\n",
            "Epoch 17/100\n",
            "\u001b[1m15/15\u001b[0m \u001b[32m━━━━━━━━━━━━━━━━━━━━\u001b[0m\u001b[37m\u001b[0m \u001b[1m2s\u001b[0m 121ms/step - loss: 0.0087 - mean_absolute_error: 0.0692\n",
            "Epoch 18/100\n",
            "\u001b[1m15/15\u001b[0m \u001b[32m━━━━━━━━━━━━━━━━━━━━\u001b[0m\u001b[37m\u001b[0m \u001b[1m2s\u001b[0m 123ms/step - loss: 0.0092 - mean_absolute_error: 0.0698\n",
            "Epoch 19/100\n",
            "\u001b[1m15/15\u001b[0m \u001b[32m━━━━━━━━━━━━━━━━━━━━\u001b[0m\u001b[37m\u001b[0m \u001b[1m2s\u001b[0m 119ms/step - loss: 0.0093 - mean_absolute_error: 0.0710\n",
            "Epoch 20/100\n",
            "\u001b[1m15/15\u001b[0m \u001b[32m━━━━━━━━━━━━━━━━━━━━\u001b[0m\u001b[37m\u001b[0m \u001b[1m2s\u001b[0m 119ms/step - loss: 0.0091 - mean_absolute_error: 0.0730\n",
            "Epoch 21/100\n",
            "\u001b[1m15/15\u001b[0m \u001b[32m━━━━━━━━━━━━━━━━━━━━\u001b[0m\u001b[37m\u001b[0m \u001b[1m2s\u001b[0m 118ms/step - loss: 0.0083 - mean_absolute_error: 0.0659\n",
            "Epoch 22/100\n",
            "\u001b[1m15/15\u001b[0m \u001b[32m━━━━━━━━━━━━━━━━━━━━\u001b[0m\u001b[37m\u001b[0m \u001b[1m2s\u001b[0m 120ms/step - loss: 0.0088 - mean_absolute_error: 0.0687\n",
            "Epoch 23/100\n",
            "\u001b[1m15/15\u001b[0m \u001b[32m━━━━━━━━━━━━━━━━━━━━\u001b[0m\u001b[37m\u001b[0m \u001b[1m2s\u001b[0m 118ms/step - loss: 0.0069 - mean_absolute_error: 0.0630\n",
            "Epoch 24/100\n",
            "\u001b[1m15/15\u001b[0m \u001b[32m━━━━━━━━━━━━━━━━━━━━\u001b[0m\u001b[37m\u001b[0m \u001b[1m2s\u001b[0m 122ms/step - loss: 0.0061 - mean_absolute_error: 0.0589\n",
            "Epoch 25/100\n",
            "\u001b[1m15/15\u001b[0m \u001b[32m━━━━━━━━━━━━━━━━━━━━\u001b[0m\u001b[37m\u001b[0m \u001b[1m2s\u001b[0m 120ms/step - loss: 0.0065 - mean_absolute_error: 0.0574\n",
            "Epoch 26/100\n",
            "\u001b[1m15/15\u001b[0m \u001b[32m━━━━━━━━━━━━━━━━━━━━\u001b[0m\u001b[37m\u001b[0m \u001b[1m2s\u001b[0m 122ms/step - loss: 0.0084 - mean_absolute_error: 0.0650\n",
            "Epoch 27/100\n",
            "\u001b[1m15/15\u001b[0m \u001b[32m━━━━━━━━━━━━━━━━━━━━\u001b[0m\u001b[37m\u001b[0m \u001b[1m2s\u001b[0m 124ms/step - loss: 0.0070 - mean_absolute_error: 0.0594\n",
            "Epoch 28/100\n",
            "\u001b[1m15/15\u001b[0m \u001b[32m━━━━━━━━━━━━━━━━━━━━\u001b[0m\u001b[37m\u001b[0m \u001b[1m2s\u001b[0m 122ms/step - loss: 0.0060 - mean_absolute_error: 0.0580\n",
            "Epoch 29/100\n",
            "\u001b[1m15/15\u001b[0m \u001b[32m━━━━━━━━━━━━━━━━━━━━\u001b[0m\u001b[37m\u001b[0m \u001b[1m2s\u001b[0m 117ms/step - loss: 0.0082 - mean_absolute_error: 0.0630\n",
            "Epoch 30/100\n",
            "\u001b[1m15/15\u001b[0m \u001b[32m━━━━━━━━━━━━━━━━━━━━\u001b[0m\u001b[37m\u001b[0m \u001b[1m2s\u001b[0m 122ms/step - loss: 0.0064 - mean_absolute_error: 0.0589\n",
            "Epoch 31/100\n",
            "\u001b[1m15/15\u001b[0m \u001b[32m━━━━━━━━━━━━━━━━━━━━\u001b[0m\u001b[37m\u001b[0m \u001b[1m2s\u001b[0m 118ms/step - loss: 0.0091 - mean_absolute_error: 0.0649\n",
            "Epoch 32/100\n",
            "\u001b[1m15/15\u001b[0m \u001b[32m━━━━━━━━━━━━━━━━━━━━\u001b[0m\u001b[37m\u001b[0m \u001b[1m2s\u001b[0m 119ms/step - loss: 0.0064 - mean_absolute_error: 0.0595\n",
            "Epoch 33/100\n",
            "\u001b[1m15/15\u001b[0m \u001b[32m━━━━━━━━━━━━━━━━━━━━\u001b[0m\u001b[37m\u001b[0m \u001b[1m2s\u001b[0m 119ms/step - loss: 0.0057 - mean_absolute_error: 0.0549\n",
            "Epoch 34/100\n",
            "\u001b[1m15/15\u001b[0m \u001b[32m━━━━━━━━━━━━━━━━━━━━\u001b[0m\u001b[37m\u001b[0m \u001b[1m2s\u001b[0m 120ms/step - loss: 0.0063 - mean_absolute_error: 0.0566\n",
            "Epoch 35/100\n",
            "\u001b[1m15/15\u001b[0m \u001b[32m━━━━━━━━━━━━━━━━━━━━\u001b[0m\u001b[37m\u001b[0m \u001b[1m2s\u001b[0m 120ms/step - loss: 0.0043 - mean_absolute_error: 0.0496\n",
            "Epoch 36/100\n",
            "\u001b[1m15/15\u001b[0m \u001b[32m━━━━━━━━━━━━━━━━━━━━\u001b[0m\u001b[37m\u001b[0m \u001b[1m2s\u001b[0m 121ms/step - loss: 0.0048 - mean_absolute_error: 0.0509\n",
            "Epoch 37/100\n",
            "\u001b[1m15/15\u001b[0m \u001b[32m━━━━━━━━━━━━━━━━━━━━\u001b[0m\u001b[37m\u001b[0m \u001b[1m2s\u001b[0m 119ms/step - loss: 0.0072 - mean_absolute_error: 0.0621\n",
            "Epoch 38/100\n",
            "\u001b[1m15/15\u001b[0m \u001b[32m━━━━━━━━━━━━━━━━━━━━\u001b[0m\u001b[37m\u001b[0m \u001b[1m2s\u001b[0m 118ms/step - loss: 0.0062 - mean_absolute_error: 0.0565\n",
            "Epoch 39/100\n",
            "\u001b[1m15/15\u001b[0m \u001b[32m━━━━━━━━━━━━━━━━━━━━\u001b[0m\u001b[37m\u001b[0m \u001b[1m2s\u001b[0m 126ms/step - loss: 0.0067 - mean_absolute_error: 0.0572\n",
            "Epoch 40/100\n",
            "\u001b[1m15/15\u001b[0m \u001b[32m━━━━━━━━━━━━━━━━━━━━\u001b[0m\u001b[37m\u001b[0m \u001b[1m2s\u001b[0m 121ms/step - loss: 0.0056 - mean_absolute_error: 0.0533\n",
            "Epoch 41/100\n",
            "\u001b[1m15/15\u001b[0m \u001b[32m━━━━━━━━━━━━━━━━━━━━\u001b[0m\u001b[37m\u001b[0m \u001b[1m2s\u001b[0m 120ms/step - loss: 0.0064 - mean_absolute_error: 0.0584\n",
            "Epoch 42/100\n",
            "\u001b[1m15/15\u001b[0m \u001b[32m━━━━━━━━━━━━━━━━━━━━\u001b[0m\u001b[37m\u001b[0m \u001b[1m2s\u001b[0m 122ms/step - loss: 0.0058 - mean_absolute_error: 0.0550\n",
            "Epoch 43/100\n",
            "\u001b[1m15/15\u001b[0m \u001b[32m━━━━━━━━━━━━━━━━━━━━\u001b[0m\u001b[37m\u001b[0m \u001b[1m2s\u001b[0m 123ms/step - loss: 0.0052 - mean_absolute_error: 0.0535\n",
            "Epoch 44/100\n",
            "\u001b[1m15/15\u001b[0m \u001b[32m━━━━━━━━━━━━━━━━━━━━\u001b[0m\u001b[37m\u001b[0m \u001b[1m2s\u001b[0m 122ms/step - loss: 0.0060 - mean_absolute_error: 0.0558\n",
            "Epoch 45/100\n",
            "\u001b[1m15/15\u001b[0m \u001b[32m━━━━━━━━━━━━━━━━━━━━\u001b[0m\u001b[37m\u001b[0m \u001b[1m2s\u001b[0m 124ms/step - loss: 0.0053 - mean_absolute_error: 0.0551\n",
            "Epoch 46/100\n",
            "\u001b[1m15/15\u001b[0m \u001b[32m━━━━━━━━━━━━━━━━━━━━\u001b[0m\u001b[37m\u001b[0m \u001b[1m2s\u001b[0m 123ms/step - loss: 0.0052 - mean_absolute_error: 0.0531\n",
            "Epoch 47/100\n",
            "\u001b[1m15/15\u001b[0m \u001b[32m━━━━━━━━━━━━━━━━━━━━\u001b[0m\u001b[37m\u001b[0m \u001b[1m2s\u001b[0m 130ms/step - loss: 0.0059 - mean_absolute_error: 0.0545\n",
            "Epoch 48/100\n",
            "\u001b[1m15/15\u001b[0m \u001b[32m━━━━━━━━━━━━━━━━━━━━\u001b[0m\u001b[37m\u001b[0m \u001b[1m2s\u001b[0m 117ms/step - loss: 0.0050 - mean_absolute_error: 0.0511\n",
            "Epoch 49/100\n",
            "\u001b[1m15/15\u001b[0m \u001b[32m━━━━━━━━━━━━━━━━━━━━\u001b[0m\u001b[37m\u001b[0m \u001b[1m2s\u001b[0m 117ms/step - loss: 0.0059 - mean_absolute_error: 0.0544\n",
            "Epoch 50/100\n",
            "\u001b[1m15/15\u001b[0m \u001b[32m━━━━━━━━━━━━━━━━━━━━\u001b[0m\u001b[37m\u001b[0m \u001b[1m2s\u001b[0m 117ms/step - loss: 0.0052 - mean_absolute_error: 0.0506\n",
            "Epoch 51/100\n",
            "\u001b[1m15/15\u001b[0m \u001b[32m━━━━━━━━━━━━━━━━━━━━\u001b[0m\u001b[37m\u001b[0m \u001b[1m2s\u001b[0m 119ms/step - loss: 0.0047 - mean_absolute_error: 0.0513\n",
            "Epoch 52/100\n",
            "\u001b[1m15/15\u001b[0m \u001b[32m━━━━━━━━━━━━━━━━━━━━\u001b[0m\u001b[37m\u001b[0m \u001b[1m2s\u001b[0m 117ms/step - loss: 0.0053 - mean_absolute_error: 0.0523\n",
            "Epoch 53/100\n",
            "\u001b[1m15/15\u001b[0m \u001b[32m━━━━━━━━━━━━━━━━━━━━\u001b[0m\u001b[37m\u001b[0m \u001b[1m2s\u001b[0m 120ms/step - loss: 0.0056 - mean_absolute_error: 0.0531\n",
            "Epoch 54/100\n",
            "\u001b[1m15/15\u001b[0m \u001b[32m━━━━━━━━━━━━━━━━━━━━\u001b[0m\u001b[37m\u001b[0m \u001b[1m2s\u001b[0m 118ms/step - loss: 0.0054 - mean_absolute_error: 0.0537\n",
            "Epoch 55/100\n",
            "\u001b[1m15/15\u001b[0m \u001b[32m━━━━━━━━━━━━━━━━━━━━\u001b[0m\u001b[37m\u001b[0m \u001b[1m2s\u001b[0m 118ms/step - loss: 0.0042 - mean_absolute_error: 0.0466\n",
            "Epoch 56/100\n",
            "\u001b[1m15/15\u001b[0m \u001b[32m━━━━━━━━━━━━━━━━━━━━\u001b[0m\u001b[37m\u001b[0m \u001b[1m2s\u001b[0m 118ms/step - loss: 0.0059 - mean_absolute_error: 0.0543\n",
            "Epoch 57/100\n",
            "\u001b[1m15/15\u001b[0m \u001b[32m━━━━━━━━━━━━━━━━━━━━\u001b[0m\u001b[37m\u001b[0m \u001b[1m2s\u001b[0m 119ms/step - loss: 0.0061 - mean_absolute_error: 0.0559\n",
            "Epoch 58/100\n",
            "\u001b[1m15/15\u001b[0m \u001b[32m━━━━━━━━━━━━━━━━━━━━\u001b[0m\u001b[37m\u001b[0m \u001b[1m2s\u001b[0m 119ms/step - loss: 0.0066 - mean_absolute_error: 0.0569\n",
            "Epoch 59/100\n",
            "\u001b[1m15/15\u001b[0m \u001b[32m━━━━━━━━━━━━━━━━━━━━\u001b[0m\u001b[37m\u001b[0m \u001b[1m2s\u001b[0m 115ms/step - loss: 0.0044 - mean_absolute_error: 0.0491\n",
            "Epoch 60/100\n",
            "\u001b[1m15/15\u001b[0m \u001b[32m━━━━━━━━━━━━━━━━━━━━\u001b[0m\u001b[37m\u001b[0m \u001b[1m2s\u001b[0m 117ms/step - loss: 0.0057 - mean_absolute_error: 0.0527\n",
            "Epoch 61/100\n",
            "\u001b[1m15/15\u001b[0m \u001b[32m━━━━━━━━━━━━━━━━━━━━\u001b[0m\u001b[37m\u001b[0m \u001b[1m2s\u001b[0m 117ms/step - loss: 0.0053 - mean_absolute_error: 0.0527\n",
            "Epoch 62/100\n",
            "\u001b[1m15/15\u001b[0m \u001b[32m━━━━━━━━━━━━━━━━━━━━\u001b[0m\u001b[37m\u001b[0m \u001b[1m2s\u001b[0m 117ms/step - loss: 0.0045 - mean_absolute_error: 0.0487\n",
            "Epoch 63/100\n",
            "\u001b[1m15/15\u001b[0m \u001b[32m━━━━━━━━━━━━━━━━━━━━\u001b[0m\u001b[37m\u001b[0m \u001b[1m2s\u001b[0m 118ms/step - loss: 0.0053 - mean_absolute_error: 0.0503\n",
            "Epoch 64/100\n",
            "\u001b[1m15/15\u001b[0m \u001b[32m━━━━━━━━━━━━━━━━━━━━\u001b[0m\u001b[37m\u001b[0m \u001b[1m2s\u001b[0m 117ms/step - loss: 0.0058 - mean_absolute_error: 0.0539\n",
            "Epoch 65/100\n",
            "\u001b[1m15/15\u001b[0m \u001b[32m━━━━━━━━━━━━━━━━━━━━\u001b[0m\u001b[37m\u001b[0m \u001b[1m2s\u001b[0m 118ms/step - loss: 0.0047 - mean_absolute_error: 0.0491\n",
            "Epoch 66/100\n",
            "\u001b[1m15/15\u001b[0m \u001b[32m━━━━━━━━━━━━━━━━━━━━\u001b[0m\u001b[37m\u001b[0m \u001b[1m2s\u001b[0m 116ms/step - loss: 0.0050 - mean_absolute_error: 0.0524\n",
            "Epoch 67/100\n",
            "\u001b[1m15/15\u001b[0m \u001b[32m━━━━━━━━━━━━━━━━━━━━\u001b[0m\u001b[37m\u001b[0m \u001b[1m2s\u001b[0m 117ms/step - loss: 0.0042 - mean_absolute_error: 0.0460\n",
            "Epoch 68/100\n",
            "\u001b[1m15/15\u001b[0m \u001b[32m━━━━━━━━━━━━━━━━━━━━\u001b[0m\u001b[37m\u001b[0m \u001b[1m2s\u001b[0m 120ms/step - loss: 0.0040 - mean_absolute_error: 0.0457\n",
            "Epoch 69/100\n",
            "\u001b[1m15/15\u001b[0m \u001b[32m━━━━━━━━━━━━━━━━━━━━\u001b[0m\u001b[37m\u001b[0m \u001b[1m2s\u001b[0m 119ms/step - loss: 0.0050 - mean_absolute_error: 0.0498\n",
            "Epoch 70/100\n",
            "\u001b[1m15/15\u001b[0m \u001b[32m━━━━━━━━━━━━━━━━━━━━\u001b[0m\u001b[37m\u001b[0m \u001b[1m2s\u001b[0m 119ms/step - loss: 0.0049 - mean_absolute_error: 0.0511\n",
            "Epoch 71/100\n",
            "\u001b[1m15/15\u001b[0m \u001b[32m━━━━━━━━━━━━━━━━━━━━\u001b[0m\u001b[37m\u001b[0m \u001b[1m2s\u001b[0m 118ms/step - loss: 0.0047 - mean_absolute_error: 0.0488\n",
            "Epoch 72/100\n",
            "\u001b[1m15/15\u001b[0m \u001b[32m━━━━━━━━━━━━━━━━━━━━\u001b[0m\u001b[37m\u001b[0m \u001b[1m2s\u001b[0m 117ms/step - loss: 0.0045 - mean_absolute_error: 0.0477\n",
            "Epoch 73/100\n",
            "\u001b[1m15/15\u001b[0m \u001b[32m━━━━━━━━━━━━━━━━━━━━\u001b[0m\u001b[37m\u001b[0m \u001b[1m2s\u001b[0m 117ms/step - loss: 0.0057 - mean_absolute_error: 0.0510\n",
            "Epoch 74/100\n",
            "\u001b[1m15/15\u001b[0m \u001b[32m━━━━━━━━━━━━━━━━━━━━\u001b[0m\u001b[37m\u001b[0m \u001b[1m2s\u001b[0m 117ms/step - loss: 0.0035 - mean_absolute_error: 0.0432\n",
            "Epoch 75/100\n",
            "\u001b[1m15/15\u001b[0m \u001b[32m━━━━━━━━━━━━━━━━━━━━\u001b[0m\u001b[37m\u001b[0m \u001b[1m2s\u001b[0m 116ms/step - loss: 0.0043 - mean_absolute_error: 0.0486\n",
            "Epoch 76/100\n",
            "\u001b[1m15/15\u001b[0m \u001b[32m━━━━━━━━━━━━━━━━━━━━\u001b[0m\u001b[37m\u001b[0m \u001b[1m2s\u001b[0m 120ms/step - loss: 0.0040 - mean_absolute_error: 0.0462\n",
            "Epoch 77/100\n",
            "\u001b[1m15/15\u001b[0m \u001b[32m━━━━━━━━━━━━━━━━━━━━\u001b[0m\u001b[37m\u001b[0m \u001b[1m2s\u001b[0m 119ms/step - loss: 0.0043 - mean_absolute_error: 0.0464\n",
            "Epoch 78/100\n",
            "\u001b[1m15/15\u001b[0m \u001b[32m━━━━━━━━━━━━━━━━━━━━\u001b[0m\u001b[37m\u001b[0m \u001b[1m2s\u001b[0m 118ms/step - loss: 0.0043 - mean_absolute_error: 0.0482\n",
            "Epoch 79/100\n",
            "\u001b[1m15/15\u001b[0m \u001b[32m━━━━━━━━━━━━━━━━━━━━\u001b[0m\u001b[37m\u001b[0m \u001b[1m2s\u001b[0m 119ms/step - loss: 0.0049 - mean_absolute_error: 0.0490\n",
            "Epoch 80/100\n",
            "\u001b[1m15/15\u001b[0m \u001b[32m━━━━━━━━━━━━━━━━━━━━\u001b[0m\u001b[37m\u001b[0m \u001b[1m2s\u001b[0m 117ms/step - loss: 0.0042 - mean_absolute_error: 0.0454\n",
            "Epoch 81/100\n",
            "\u001b[1m15/15\u001b[0m \u001b[32m━━━━━━━━━━━━━━━━━━━━\u001b[0m\u001b[37m\u001b[0m \u001b[1m2s\u001b[0m 119ms/step - loss: 0.0048 - mean_absolute_error: 0.0476\n",
            "Epoch 82/100\n",
            "\u001b[1m15/15\u001b[0m \u001b[32m━━━━━━━━━━━━━━━━━━━━\u001b[0m\u001b[37m\u001b[0m \u001b[1m2s\u001b[0m 118ms/step - loss: 0.0050 - mean_absolute_error: 0.0497\n",
            "Epoch 83/100\n",
            "\u001b[1m15/15\u001b[0m \u001b[32m━━━━━━━━━━━━━━━━━━━━\u001b[0m\u001b[37m\u001b[0m \u001b[1m2s\u001b[0m 121ms/step - loss: 0.0043 - mean_absolute_error: 0.0468\n",
            "Epoch 84/100\n",
            "\u001b[1m15/15\u001b[0m \u001b[32m━━━━━━━━━━━━━━━━━━━━\u001b[0m\u001b[37m\u001b[0m \u001b[1m2s\u001b[0m 119ms/step - loss: 0.0045 - mean_absolute_error: 0.0484\n",
            "Epoch 85/100\n",
            "\u001b[1m15/15\u001b[0m \u001b[32m━━━━━━━━━━━━━━━━━━━━\u001b[0m\u001b[37m\u001b[0m \u001b[1m2s\u001b[0m 122ms/step - loss: 0.0036 - mean_absolute_error: 0.0431\n",
            "Epoch 86/100\n",
            "\u001b[1m15/15\u001b[0m \u001b[32m━━━━━━━━━━━━━━━━━━━━\u001b[0m\u001b[37m\u001b[0m \u001b[1m2s\u001b[0m 121ms/step - loss: 0.0038 - mean_absolute_error: 0.0421\n",
            "Epoch 87/100\n",
            "\u001b[1m15/15\u001b[0m \u001b[32m━━━━━━━━━━━━━━━━━━━━\u001b[0m\u001b[37m\u001b[0m \u001b[1m2s\u001b[0m 120ms/step - loss: 0.0039 - mean_absolute_error: 0.0445\n",
            "Epoch 88/100\n",
            "\u001b[1m15/15\u001b[0m \u001b[32m━━━━━━━━━━━━━━━━━━━━\u001b[0m\u001b[37m\u001b[0m \u001b[1m2s\u001b[0m 123ms/step - loss: 0.0039 - mean_absolute_error: 0.0420\n",
            "Epoch 89/100\n",
            "\u001b[1m15/15\u001b[0m \u001b[32m━━━━━━━━━━━━━━━━━━━━\u001b[0m\u001b[37m\u001b[0m \u001b[1m2s\u001b[0m 120ms/step - loss: 0.0043 - mean_absolute_error: 0.0451\n",
            "Epoch 90/100\n",
            "\u001b[1m15/15\u001b[0m \u001b[32m━━━━━━━━━━━━━━━━━━━━\u001b[0m\u001b[37m\u001b[0m \u001b[1m2s\u001b[0m 118ms/step - loss: 0.0041 - mean_absolute_error: 0.0460\n",
            "Epoch 91/100\n",
            "\u001b[1m15/15\u001b[0m \u001b[32m━━━━━━━━━━━━━━━━━━━━\u001b[0m\u001b[37m\u001b[0m \u001b[1m2s\u001b[0m 121ms/step - loss: 0.0044 - mean_absolute_error: 0.0464\n",
            "Epoch 92/100\n",
            "\u001b[1m15/15\u001b[0m \u001b[32m━━━━━━━━━━━━━━━━━━━━\u001b[0m\u001b[37m\u001b[0m \u001b[1m2s\u001b[0m 123ms/step - loss: 0.0040 - mean_absolute_error: 0.0455\n",
            "Epoch 93/100\n",
            "\u001b[1m15/15\u001b[0m \u001b[32m━━━━━━━━━━━━━━━━━━━━\u001b[0m\u001b[37m\u001b[0m \u001b[1m2s\u001b[0m 123ms/step - loss: 0.0031 - mean_absolute_error: 0.0409\n",
            "Epoch 94/100\n",
            "\u001b[1m15/15\u001b[0m \u001b[32m━━━━━━━━━━━━━━━━━━━━\u001b[0m\u001b[37m\u001b[0m \u001b[1m2s\u001b[0m 124ms/step - loss: 0.0035 - mean_absolute_error: 0.0422\n",
            "Epoch 95/100\n",
            "\u001b[1m15/15\u001b[0m \u001b[32m━━━━━━━━━━━━━━━━━━━━\u001b[0m\u001b[37m\u001b[0m \u001b[1m2s\u001b[0m 120ms/step - loss: 0.0037 - mean_absolute_error: 0.0439\n",
            "Epoch 96/100\n",
            "\u001b[1m15/15\u001b[0m \u001b[32m━━━━━━━━━━━━━━━━━━━━\u001b[0m\u001b[37m\u001b[0m \u001b[1m2s\u001b[0m 125ms/step - loss: 0.0038 - mean_absolute_error: 0.0428\n",
            "Epoch 97/100\n",
            "\u001b[1m15/15\u001b[0m \u001b[32m━━━━━━━━━━━━━━━━━━━━\u001b[0m\u001b[37m\u001b[0m \u001b[1m2s\u001b[0m 119ms/step - loss: 0.0038 - mean_absolute_error: 0.0453\n",
            "Epoch 98/100\n",
            "\u001b[1m15/15\u001b[0m \u001b[32m━━━━━━━━━━━━━━━━━━━━\u001b[0m\u001b[37m\u001b[0m \u001b[1m2s\u001b[0m 119ms/step - loss: 0.0038 - mean_absolute_error: 0.0423\n",
            "Epoch 99/100\n",
            "\u001b[1m15/15\u001b[0m \u001b[32m━━━━━━━━━━━━━━━━━━━━\u001b[0m\u001b[37m\u001b[0m \u001b[1m2s\u001b[0m 121ms/step - loss: 0.0035 - mean_absolute_error: 0.0434\n",
            "Epoch 100/100\n",
            "\u001b[1m15/15\u001b[0m \u001b[32m━━━━━━━━━━━━━━━━━━━━\u001b[0m\u001b[37m\u001b[0m \u001b[1m2s\u001b[0m 120ms/step - loss: 0.0036 - mean_absolute_error: 0.0426\n"
          ]
        },
        {
          "data": {
            "text/plain": [
              "<keras.src.callbacks.history.History at 0x319deffe0>"
            ]
          },
          "execution_count": 22,
          "metadata": {},
          "output_type": "execute_result"
        }
      ],
      "source": [
        "import tensorflow as tf\n",
        "model.compile(optimizer = 'adam', loss = 'mean_squared_error', metrics=[tf.keras.metrics.MeanAbsoluteError()])\n",
        "model.fit(x_train, y_train,epochs = 100)"
      ]
    },
    {
      "cell_type": "code",
      "execution_count": 23,
      "id": "7f844b63",
      "metadata": {},
      "outputs": [
        {
          "name": "stderr",
          "output_type": "stream",
          "text": [
            "WARNING:absl:You are saving your model as an HDF5 file via `model.save()` or `keras.saving.save_model(model)`. This file format is considered legacy. We recommend using instead the native Keras format, e.g. `model.save('my_model.keras')` or `keras.saving.save_model(model, 'my_model.keras')`. \n"
          ]
        }
      ],
      "source": [
        "model.save('keras_model.h5')\n"
      ]
    },
    {
      "cell_type": "code",
      "execution_count": 24,
      "id": "84ade572",
      "metadata": {},
      "outputs": [
        {
          "data": {
            "text/plain": [
              "(248, 1)"
            ]
          },
          "execution_count": 24,
          "metadata": {},
          "output_type": "execute_result"
        }
      ],
      "source": [
        "test_close.shape\n"
      ]
    },
    {
      "cell_type": "code",
      "execution_count": 25,
      "id": "d9c585d7",
      "metadata": {},
      "outputs": [],
      "source": [
        "past_100_days = pd.DataFrame(train_close[-100:])\n"
      ]
    },
    {
      "cell_type": "code",
      "execution_count": 26,
      "id": "781a61ea",
      "metadata": {},
      "outputs": [],
      "source": [
        "test_df = pd.DataFrame(test_close)\n"
      ]
    },
    {
      "cell_type": "code",
      "execution_count": 27,
      "id": "b4389c9a",
      "metadata": {},
      "outputs": [],
      "source": [
        "final_df = pd.concat([past_100_days, test_df], ignore_index=True)\n"
      ]
    },
    {
      "cell_type": "code",
      "execution_count": 28,
      "id": "7032467b",
      "metadata": {},
      "outputs": [
        {
          "data": {
            "text/html": [
              "<div>\n",
              "<style scoped>\n",
              "    .dataframe tbody tr th:only-of-type {\n",
              "        vertical-align: middle;\n",
              "    }\n",
              "\n",
              "    .dataframe tbody tr th {\n",
              "        vertical-align: top;\n",
              "    }\n",
              "\n",
              "    .dataframe thead th {\n",
              "        text-align: right;\n",
              "    }\n",
              "</style>\n",
              "<table border=\"1\" class=\"dataframe\">\n",
              "  <thead>\n",
              "    <tr style=\"text-align: right;\">\n",
              "      <th></th>\n",
              "      <th>0</th>\n",
              "    </tr>\n",
              "  </thead>\n",
              "  <tbody>\n",
              "    <tr>\n",
              "      <th>0</th>\n",
              "      <td>32926.35</td>\n",
              "    </tr>\n",
              "    <tr>\n",
              "      <th>1</th>\n",
              "      <td>32686.25</td>\n",
              "    </tr>\n",
              "    <tr>\n",
              "      <th>2</th>\n",
              "      <td>32970.55</td>\n",
              "    </tr>\n",
              "    <tr>\n",
              "      <th>3</th>\n",
              "      <td>32758.98</td>\n",
              "    </tr>\n",
              "    <tr>\n",
              "      <th>4</th>\n",
              "      <td>33219.39</td>\n",
              "    </tr>\n",
              "  </tbody>\n",
              "</table>\n",
              "</div>"
            ],
            "text/plain": [
              "          0\n",
              "0  32926.35\n",
              "1  32686.25\n",
              "2  32970.55\n",
              "3  32758.98\n",
              "4  33219.39"
            ]
          },
          "execution_count": 28,
          "metadata": {},
          "output_type": "execute_result"
        }
      ],
      "source": [
        "final_df.head()"
      ]
    },
    {
      "cell_type": "markdown",
      "id": "KgEnUfCnn_1r",
      "metadata": {
        "id": "KgEnUfCnn_1r"
      },
      "source": [
        "# Training the model\n",
        "\n",
        "---\n",
        "\n"
      ]
    },
    {
      "cell_type": "code",
      "execution_count": 29,
      "id": "3fbb5911",
      "metadata": {},
      "outputs": [],
      "source": [
        "# x_test = []\n",
        "# y_test = []\n",
        "# for i in range(100, len(data_training_array)):\n",
        "#     x_test.append(data_training_array[i-100:i])\n",
        "#     y_test.append(data_training_array[i, 0])\n",
        "# x_test, y_test = np.array(x_test), np.array(y_test)"
      ]
    },
    {
      "cell_type": "code",
      "execution_count": 30,
      "id": "d6e1a2f3",
      "metadata": {},
      "outputs": [],
      "source": [
        "# model.compile(optimizer = 'adam', loss = 'mean_squared_error', metrics = ['MAE'])\n",
        "# model.fit(x_train, y_train, validation_data = (x_test, y_test) ,epochs = 50)\n"
      ]
    },
    {
      "cell_type": "code",
      "execution_count": 31,
      "id": "zG1W6DhzI-hP",
      "metadata": {
        "id": "zG1W6DhzI-hP"
      },
      "outputs": [],
      "source": [
        "# model.save('keras_model.h5')"
      ]
    },
    {
      "cell_type": "code",
      "execution_count": 32,
      "id": "khcKI1sSJSJB",
      "metadata": {
        "id": "khcKI1sSJSJB"
      },
      "outputs": [],
      "source": [
        "\n",
        "# test_close.shape\n",
        "# test_close"
      ]
    },
    {
      "cell_type": "code",
      "execution_count": 33,
      "id": "6QyF-7KbKaGt",
      "metadata": {
        "id": "6QyF-7KbKaGt"
      },
      "outputs": [],
      "source": [
        "# past_100_days = pd.DataFrame(train_close[-100:])"
      ]
    },
    {
      "cell_type": "code",
      "execution_count": 34,
      "id": "pKsjLCyGLuOz",
      "metadata": {
        "id": "pKsjLCyGLuOz"
      },
      "outputs": [],
      "source": [
        "# test_df = pd.DataFrame(test_close)"
      ]
    },
    {
      "cell_type": "markdown",
      "id": "d9ZKAzB8oKXJ",
      "metadata": {
        "id": "d9ZKAzB8oKXJ"
      },
      "source": [
        "**Defining the final dataset for testing by including last 100 coloums of the training dataset to get the prediction from the 1st column of the testing dataset.**\n",
        "\n",
        "---\n"
      ]
    },
    {
      "cell_type": "code",
      "execution_count": null,
      "id": "6e547e57",
      "metadata": {},
      "outputs": [],
      "source": [
        "\n"
      ]
    },
    {
      "cell_type": "code",
      "execution_count": 35,
      "id": "UUapqTcVLOj-",
      "metadata": {
        "colab": {
          "base_uri": "https://localhost:8080/"
        },
        "id": "UUapqTcVLOj-",
        "outputId": "574ac38d-9500-4d04-a59c-63b999af43d5"
      },
      "outputs": [],
      "source": [
        "# final_df = past_100_days.append(test_df, ignore_index = True)"
      ]
    },
    {
      "cell_type": "code",
      "execution_count": 36,
      "id": "L5gFYc1hMRjS",
      "metadata": {
        "colab": {
          "base_uri": "https://localhost:8080/",
          "height": 206
        },
        "id": "L5gFYc1hMRjS",
        "outputId": "384ca741-98e4-4df1-d68f-ee92c82663e2"
      },
      "outputs": [],
      "source": [
        "# final_df.head()"
      ]
    },
    {
      "cell_type": "code",
      "execution_count": 37,
      "id": "d3d68f2a",
      "metadata": {},
      "outputs": [
        {
          "data": {
            "text/plain": [
              "array([[0.1614232 ],\n",
              "       [0.13976806],\n",
              "       [0.16540969],\n",
              "       [0.14632774],\n",
              "       [0.1878531 ],\n",
              "       [0.22903033],\n",
              "       [0.18073514],\n",
              "       [0.18331283],\n",
              "       [0.19097736],\n",
              "       [0.19565112],\n",
              "       [0.22950834],\n",
              "       [0.21673533],\n",
              "       [0.20993034],\n",
              "       [0.19406734],\n",
              "       [0.20210617],\n",
              "       [0.23689869],\n",
              "       [0.29809767],\n",
              "       [0.35294712],\n",
              "       [0.40050093],\n",
              "       [0.42978451],\n",
              "       [0.40429531],\n",
              "       [0.39153944],\n",
              "       [0.39049501],\n",
              "       [0.43532953],\n",
              "       [0.48797288],\n",
              "       [0.48532303],\n",
              "       [0.459069  ],\n",
              "       [0.45997002],\n",
              "       [0.41619075],\n",
              "       [0.44107206],\n",
              "       [0.44458234],\n",
              "       [0.46450127],\n",
              "       [0.43967589],\n",
              "       [0.45289445],\n",
              "       [0.47058473],\n",
              "       [0.45313255],\n",
              "       [0.44945813],\n",
              "       [0.51650336],\n",
              "       [0.51958252],\n",
              "       [0.61577695],\n",
              "       [0.59226837],\n",
              "       [0.63327152],\n",
              "       [0.6629718 ],\n",
              "       [0.66145116],\n",
              "       [0.65182134],\n",
              "       [0.64267135],\n",
              "       [0.71811888],\n",
              "       [0.73029753],\n",
              "       [0.73082154],\n",
              "       [0.72798139],\n",
              "       [0.72420775],\n",
              "       [0.79136753],\n",
              "       [0.80926255],\n",
              "       [0.80821632],\n",
              "       [0.80759851],\n",
              "       [0.76321766],\n",
              "       [0.7713557 ],\n",
              "       [0.69302833],\n",
              "       [0.69095571],\n",
              "       [0.6817976 ],\n",
              "       [0.69184591],\n",
              "       [0.68285014],\n",
              "       [0.77600059],\n",
              "       [0.79973556],\n",
              "       [0.87297699],\n",
              "       [0.87954027],\n",
              "       [0.83676124],\n",
              "       [0.83531004],\n",
              "       [0.86820312],\n",
              "       [0.81456946],\n",
              "       [0.83273145],\n",
              "       [0.78165113],\n",
              "       [0.78488181],\n",
              "       [0.74997204],\n",
              "       [0.77894987],\n",
              "       [0.7085044 ],\n",
              "       [0.740519  ],\n",
              "       [0.77894897],\n",
              "       [0.76169341],\n",
              "       [0.74914047],\n",
              "       [0.75643882],\n",
              "       [0.73021545],\n",
              "       [0.66152511],\n",
              "       [0.61558123],\n",
              "       [0.62621489],\n",
              "       [0.53499906],\n",
              "       [0.56839361],\n",
              "       [0.57863492],\n",
              "       [0.66052218],\n",
              "       [0.58551839],\n",
              "       [0.61314244],\n",
              "       [0.65561392],\n",
              "       [0.64374373],\n",
              "       [0.64031823],\n",
              "       [0.69434603],\n",
              "       [0.63727876],\n",
              "       [0.62569899],\n",
              "       [0.6396905 ],\n",
              "       [0.63521246],\n",
              "       [0.65114039],\n",
              "       [0.65381639],\n",
              "       [0.7020268 ],\n",
              "       [0.69004207],\n",
              "       [0.71550331],\n",
              "       [0.70443222],\n",
              "       [0.67468415],\n",
              "       [0.71852835],\n",
              "       [0.67730062],\n",
              "       [0.70020131],\n",
              "       [0.69617423],\n",
              "       [0.66925187],\n",
              "       [0.62390868],\n",
              "       [0.66303132],\n",
              "       [0.70227663],\n",
              "       [0.69455889],\n",
              "       [0.66323606],\n",
              "       [0.68247765],\n",
              "       [0.68071169],\n",
              "       [0.71266045],\n",
              "       [0.72137572],\n",
              "       [0.69809893],\n",
              "       [0.68400731],\n",
              "       [0.69249349],\n",
              "       [0.62826586],\n",
              "       [0.66250911],\n",
              "       [0.67050464],\n",
              "       [0.67612001],\n",
              "       [0.67282348],\n",
              "       [0.69159968],\n",
              "       [0.72483549],\n",
              "       [0.76938319],\n",
              "       [0.74002294],\n",
              "       [0.76180796],\n",
              "       [0.76613537],\n",
              "       [0.80614732],\n",
              "       [0.85179086],\n",
              "       [0.88181492],\n",
              "       [0.88169947],\n",
              "       [0.86982387],\n",
              "       [0.94192979],\n",
              "       [0.96464197],\n",
              "       [1.        ],\n",
              "       [0.90680085],\n",
              "       [0.91441307],\n",
              "       [0.89841388],\n",
              "       [0.81080664],\n",
              "       [0.80516422],\n",
              "       [0.76324381],\n",
              "       [0.76282803],\n",
              "       [0.72318497],\n",
              "       [0.6072574 ],\n",
              "       [0.58902957],\n",
              "       [0.66129332],\n",
              "       [0.66646313],\n",
              "       [0.71840208],\n",
              "       [0.63042055],\n",
              "       [0.43049793],\n",
              "       [0.02902744],\n",
              "       [0.31917918],\n",
              "       [0.35653316],\n",
              "       [0.33322119],\n",
              "       [0.35070494],\n",
              "       [0.45961286],\n",
              "       [0.47854599],\n",
              "       [0.5041795 ],\n",
              "       [0.62467892],\n",
              "       [0.5638849 ],\n",
              "       [0.62470146],\n",
              "       [0.61467931],\n",
              "       [0.63805802],\n",
              "       [0.65188087],\n",
              "       [0.62896755],\n",
              "       [0.64505783],\n",
              "       [0.65255641],\n",
              "       [0.65172393],\n",
              "       [0.67744854],\n",
              "       [0.68223954],\n",
              "       [0.68092635],\n",
              "       [0.53312848],\n",
              "       [0.49790664],\n",
              "       [0.4739498 ],\n",
              "       [0.45810124],\n",
              "       [0.45299727],\n",
              "       [0.40434852],\n",
              "       [0.51379669],\n",
              "       [0.49111247],\n",
              "       [0.45697113],\n",
              "       [0.47293063],\n",
              "       [0.54284397],\n",
              "       [0.59412542],\n",
              "       [0.61366826],\n",
              "       [0.60732505],\n",
              "       [0.70251113],\n",
              "       [0.78403852],\n",
              "       [0.61177062],\n",
              "       [0.67782915],\n",
              "       [0.60177823],\n",
              "       [0.66881805],\n",
              "       [0.67635451],\n",
              "       [0.73922925],\n",
              "       [0.70358532],\n",
              "       [0.73428853],\n",
              "       [0.74357201],\n",
              "       [0.76385712],\n",
              "       [0.79134318],\n",
              "       [0.72548036],\n",
              "       [0.70120876],\n",
              "       [0.70757271],\n",
              "       [0.705124  ],\n",
              "       [0.65618213],\n",
              "       [0.62848412],\n",
              "       [0.63195021],\n",
              "       [0.61126283],\n",
              "       [0.67364062],\n",
              "       [0.70053141],\n",
              "       [0.73423712],\n",
              "       [0.71654683],\n",
              "       [0.62386719],\n",
              "       [0.66185882],\n",
              "       [0.75257138],\n",
              "       [0.74361891],\n",
              "       [0.75434816],\n",
              "       [0.75731999],\n",
              "       [0.74313908],\n",
              "       [0.68411464],\n",
              "       [0.66734251],\n",
              "       [0.67701201],\n",
              "       [0.63894551],\n",
              "       [0.65640491],\n",
              "       [0.65080487],\n",
              "       [0.6213869 ],\n",
              "       [0.64462761],\n",
              "       [0.68938907],\n",
              "       [0.6588915 ],\n",
              "       [0.63119981],\n",
              "       [0.65050904],\n",
              "       [0.63778925],\n",
              "       [0.66529695],\n",
              "       [0.73166394],\n",
              "       [0.73414693],\n",
              "       [0.74489873],\n",
              "       [0.71744154],\n",
              "       [0.72369456],\n",
              "       [0.74237155],\n",
              "       [0.74279094],\n",
              "       [0.78580448],\n",
              "       [0.75164871],\n",
              "       [0.75048072],\n",
              "       [0.74210999],\n",
              "       [0.71658832],\n",
              "       [0.6924051 ],\n",
              "       [0.68233244],\n",
              "       [0.72377032],\n",
              "       [0.7125423 ],\n",
              "       [0.72098248],\n",
              "       [0.76045327],\n",
              "       [0.82476929],\n",
              "       [0.7898992 ],\n",
              "       [0.73691222],\n",
              "       [0.80692387],\n",
              "       [0.79770263],\n",
              "       [0.76379308],\n",
              "       [0.7263913 ],\n",
              "       [0.66180471],\n",
              "       [0.6591242 ],\n",
              "       [0.6706706 ],\n",
              "       [0.65974472],\n",
              "       [0.70042499],\n",
              "       [0.7117423 ],\n",
              "       [0.76750539],\n",
              "       [0.79570126],\n",
              "       [0.793276  ],\n",
              "       [0.76024944],\n",
              "       [0.71074026],\n",
              "       [0.74662862],\n",
              "       [0.75557478],\n",
              "       [0.76085282],\n",
              "       [0.66593461],\n",
              "       [0.69103328],\n",
              "       [0.69401954],\n",
              "       [0.7152192 ],\n",
              "       [0.6900096 ],\n",
              "       [0.69128582],\n",
              "       [0.70594474],\n",
              "       [0.75083969],\n",
              "       [0.72269613],\n",
              "       [0.7249347 ],\n",
              "       [0.73360668],\n",
              "       [0.72406525],\n",
              "       [0.68018046],\n",
              "       [0.68910046],\n",
              "       [0.64047336],\n",
              "       [0.63186723],\n",
              "       [0.6421311 ],\n",
              "       [0.54285931],\n",
              "       [0.59967765],\n",
              "       [0.55870426],\n",
              "       [0.56655639],\n",
              "       [0.59241358],\n",
              "       [0.51865805],\n",
              "       [0.53138416],\n",
              "       [0.51017458],\n",
              "       [0.51251777],\n",
              "       [0.50989678],\n",
              "       [0.53362363],\n",
              "       [0.56459742],\n",
              "       [0.60508467],\n",
              "       [0.5966481 ],\n",
              "       [0.58989992],\n",
              "       [0.58371545],\n",
              "       [0.59923301],\n",
              "       [0.62148792],\n",
              "       [0.60098544],\n",
              "       [0.53968725],\n",
              "       [0.4041492 ],\n",
              "       [0.40477333],\n",
              "       [0.41391791],\n",
              "       [0.3246331 ],\n",
              "       [0.23846803],\n",
              "       [0.        ],\n",
              "       [0.16920046],\n",
              "       [0.05208145],\n",
              "       [0.31318501],\n",
              "       [0.22088056],\n",
              "       [0.256667  ],\n",
              "       [0.282388  ],\n",
              "       [0.2510787 ],\n",
              "       [0.29231455],\n",
              "       [0.32412351],\n",
              "       [0.28350458],\n",
              "       [0.27815438],\n",
              "       [0.3366016 ],\n",
              "       [0.35198116],\n",
              "       [0.41210234],\n",
              "       [0.42421064],\n",
              "       [0.4427352 ],\n",
              "       [0.47943619],\n",
              "       [0.513564  ],\n",
              "       [0.50896149],\n",
              "       [0.52239742],\n",
              "       [0.57423084],\n",
              "       [0.58694162],\n",
              "       [0.63555519],\n",
              "       [0.63058289],\n",
              "       [0.5969755 ],\n",
              "       [0.59681405],\n",
              "       [0.57380694],\n",
              "       [0.57659027]])"
            ]
          },
          "execution_count": 37,
          "metadata": {},
          "output_type": "execute_result"
        }
      ],
      "source": [
        "input_data = scaler.fit_transform(final_df)\n",
        "input_data\n"
      ]
    },
    {
      "cell_type": "code",
      "execution_count": 38,
      "id": "BU7BPmzvMZpZ",
      "metadata": {
        "id": "BU7BPmzvMZpZ"
      },
      "outputs": [
        {
          "data": {
            "text/plain": [
              "(348, 1)"
            ]
          },
          "execution_count": 38,
          "metadata": {},
          "output_type": "execute_result"
        }
      ],
      "source": [
        "input_data.shape"
      ]
    },
    {
      "cell_type": "markdown",
      "id": "hJzkNc_To9li",
      "metadata": {
        "id": "hJzkNc_To9li"
      },
      "source": [
        "# Testing the model\n",
        "\n",
        "---\n",
        "\n"
      ]
    },
    {
      "cell_type": "code",
      "execution_count": 39,
      "id": "d9xCof1CMwwh",
      "metadata": {
        "id": "d9xCof1CMwwh"
      },
      "outputs": [],
      "source": [
        "x_test = []\n",
        "y_test = []\n",
        "for i in range(100, input_data.shape[0]):\n",
        "   x_test.append(input_data[i-100: i])\n",
        "   y_test.append(input_data[i, 0])"
      ]
    },
    {
      "cell_type": "code",
      "execution_count": 40,
      "id": "6MGDYZvrNUYc",
      "metadata": {
        "colab": {
          "base_uri": "https://localhost:8080/"
        },
        "id": "6MGDYZvrNUYc",
        "outputId": "edc06c42-97d9-49ab-db6f-4054bcf10f9a"
      },
      "outputs": [
        {
          "name": "stdout",
          "output_type": "stream",
          "text": [
            "(248, 100, 1)\n",
            "(248,)\n"
          ]
        }
      ],
      "source": [
        "x_test, y_test = np.array(x_test), np.array(y_test)\n",
        "print(x_test.shape)\n",
        "print(y_test.shape)"
      ]
    },
    {
      "cell_type": "markdown",
      "id": "PjvHSsrYpFBG",
      "metadata": {
        "id": "PjvHSsrYpFBG"
      },
      "source": [
        "# Making prediction and plotting the graph of predicted vs actual values\n",
        "\n",
        "---\n",
        "\n"
      ]
    },
    {
      "cell_type": "code",
      "execution_count": 41,
      "id": "GLMExu7NNdmA",
      "metadata": {
        "colab": {
          "base_uri": "https://localhost:8080/"
        },
        "id": "GLMExu7NNdmA",
        "outputId": "8038aa60-ecfb-4222-e8ad-edfc8f6c24a1"
      },
      "outputs": [
        {
          "name": "stdout",
          "output_type": "stream",
          "text": [
            "\u001b[1m8/8\u001b[0m \u001b[32m━━━━━━━━━━━━━━━━━━━━\u001b[0m\u001b[37m\u001b[0m \u001b[1m1s\u001b[0m 58ms/step\n"
          ]
        }
      ],
      "source": [
        "y_pred = model.predict(x_test)"
      ]
    },
    {
      "cell_type": "code",
      "execution_count": 42,
      "id": "wAmVS__yNu-A",
      "metadata": {
        "colab": {
          "base_uri": "https://localhost:8080/"
        },
        "id": "wAmVS__yNu-A",
        "outputId": "0bccada4-46f7-4a77-8eb9-6b46fcab85f8"
      },
      "outputs": [
        {
          "data": {
            "text/plain": [
              "(248, 1)"
            ]
          },
          "execution_count": 42,
          "metadata": {},
          "output_type": "execute_result"
        }
      ],
      "source": [
        "y_pred.shape"
      ]
    },
    {
      "cell_type": "code",
      "execution_count": 43,
      "id": "HFhTH-1aNyqt",
      "metadata": {
        "colab": {
          "base_uri": "https://localhost:8080/"
        },
        "id": "HFhTH-1aNyqt",
        "outputId": "28aac7e4-150f-4898-e81c-abf243c9b01c"
      },
      "outputs": [
        {
          "data": {
            "text/plain": [
              "array([0.65381639, 0.7020268 , 0.69004207, 0.71550331, 0.70443222,\n",
              "       0.67468415, 0.71852835, 0.67730062, 0.70020131, 0.69617423,\n",
              "       0.66925187, 0.62390868, 0.66303132, 0.70227663, 0.69455889,\n",
              "       0.66323606, 0.68247765, 0.68071169, 0.71266045, 0.72137572,\n",
              "       0.69809893, 0.68400731, 0.69249349, 0.62826586, 0.66250911,\n",
              "       0.67050464, 0.67612001, 0.67282348, 0.69159968, 0.72483549,\n",
              "       0.76938319, 0.74002294, 0.76180796, 0.76613537, 0.80614732,\n",
              "       0.85179086, 0.88181492, 0.88169947, 0.86982387, 0.94192979,\n",
              "       0.96464197, 1.        , 0.90680085, 0.91441307, 0.89841388,\n",
              "       0.81080664, 0.80516422, 0.76324381, 0.76282803, 0.72318497,\n",
              "       0.6072574 , 0.58902957, 0.66129332, 0.66646313, 0.71840208,\n",
              "       0.63042055, 0.43049793, 0.02902744, 0.31917918, 0.35653316,\n",
              "       0.33322119, 0.35070494, 0.45961286, 0.47854599, 0.5041795 ,\n",
              "       0.62467892, 0.5638849 , 0.62470146, 0.61467931, 0.63805802,\n",
              "       0.65188087, 0.62896755, 0.64505783, 0.65255641, 0.65172393,\n",
              "       0.67744854, 0.68223954, 0.68092635, 0.53312848, 0.49790664,\n",
              "       0.4739498 , 0.45810124, 0.45299727, 0.40434852, 0.51379669,\n",
              "       0.49111247, 0.45697113, 0.47293063, 0.54284397, 0.59412542,\n",
              "       0.61366826, 0.60732505, 0.70251113, 0.78403852, 0.61177062,\n",
              "       0.67782915, 0.60177823, 0.66881805, 0.67635451, 0.73922925,\n",
              "       0.70358532, 0.73428853, 0.74357201, 0.76385712, 0.79134318,\n",
              "       0.72548036, 0.70120876, 0.70757271, 0.705124  , 0.65618213,\n",
              "       0.62848412, 0.63195021, 0.61126283, 0.67364062, 0.70053141,\n",
              "       0.73423712, 0.71654683, 0.62386719, 0.66185882, 0.75257138,\n",
              "       0.74361891, 0.75434816, 0.75731999, 0.74313908, 0.68411464,\n",
              "       0.66734251, 0.67701201, 0.63894551, 0.65640491, 0.65080487,\n",
              "       0.6213869 , 0.64462761, 0.68938907, 0.6588915 , 0.63119981,\n",
              "       0.65050904, 0.63778925, 0.66529695, 0.73166394, 0.73414693,\n",
              "       0.74489873, 0.71744154, 0.72369456, 0.74237155, 0.74279094,\n",
              "       0.78580448, 0.75164871, 0.75048072, 0.74210999, 0.71658832,\n",
              "       0.6924051 , 0.68233244, 0.72377032, 0.7125423 , 0.72098248,\n",
              "       0.76045327, 0.82476929, 0.7898992 , 0.73691222, 0.80692387,\n",
              "       0.79770263, 0.76379308, 0.7263913 , 0.66180471, 0.6591242 ,\n",
              "       0.6706706 , 0.65974472, 0.70042499, 0.7117423 , 0.76750539,\n",
              "       0.79570126, 0.793276  , 0.76024944, 0.71074026, 0.74662862,\n",
              "       0.75557478, 0.76085282, 0.66593461, 0.69103328, 0.69401954,\n",
              "       0.7152192 , 0.6900096 , 0.69128582, 0.70594474, 0.75083969,\n",
              "       0.72269613, 0.7249347 , 0.73360668, 0.72406525, 0.68018046,\n",
              "       0.68910046, 0.64047336, 0.63186723, 0.6421311 , 0.54285931,\n",
              "       0.59967765, 0.55870426, 0.56655639, 0.59241358, 0.51865805,\n",
              "       0.53138416, 0.51017458, 0.51251777, 0.50989678, 0.53362363,\n",
              "       0.56459742, 0.60508467, 0.5966481 , 0.58989992, 0.58371545,\n",
              "       0.59923301, 0.62148792, 0.60098544, 0.53968725, 0.4041492 ,\n",
              "       0.40477333, 0.41391791, 0.3246331 , 0.23846803, 0.        ,\n",
              "       0.16920046, 0.05208145, 0.31318501, 0.22088056, 0.256667  ,\n",
              "       0.282388  , 0.2510787 , 0.29231455, 0.32412351, 0.28350458,\n",
              "       0.27815438, 0.3366016 , 0.35198116, 0.41210234, 0.42421064,\n",
              "       0.4427352 , 0.47943619, 0.513564  , 0.50896149, 0.52239742,\n",
              "       0.57423084, 0.58694162, 0.63555519, 0.63058289, 0.5969755 ,\n",
              "       0.59681405, 0.57380694, 0.57659027])"
            ]
          },
          "execution_count": 43,
          "metadata": {},
          "output_type": "execute_result"
        }
      ],
      "source": [
        "y_test"
      ]
    },
    {
      "cell_type": "code",
      "execution_count": 44,
      "id": "WDIHSvbHN1vk",
      "metadata": {
        "id": "WDIHSvbHN1vk"
      },
      "outputs": [
        {
          "data": {
            "text/plain": [
              "array([[0.668517  ],\n",
              "       [0.6728018 ],\n",
              "       [0.67758423],\n",
              "       [0.6831234 ],\n",
              "       [0.6897641 ],\n",
              "       [0.6974028 ],\n",
              "       [0.7052805 ],\n",
              "       [0.7132425 ],\n",
              "       [0.72060055],\n",
              "       [0.72710365],\n",
              "       [0.7326112 ],\n",
              "       [0.73673296],\n",
              "       [0.73866445],\n",
              "       [0.738493  ],\n",
              "       [0.73712224],\n",
              "       [0.7353401 ],\n",
              "       [0.7333171 ],\n",
              "       [0.7313387 ],\n",
              "       [0.72958654],\n",
              "       [0.7285765 ],\n",
              "       [0.72876465],\n",
              "       [0.7300277 ],\n",
              "       [0.73187125],\n",
              "       [0.7339207 ],\n",
              "       [0.7350599 ],\n",
              "       [0.7349539 ],\n",
              "       [0.73372704],\n",
              "       [0.7317584 ],\n",
              "       [0.7294071 ],\n",
              "       [0.7272172 ],\n",
              "       [0.7260242 ],\n",
              "       [0.7269537 ],\n",
              "       [0.7302112 ],\n",
              "       [0.73581874],\n",
              "       [0.74346954],\n",
              "       [0.7531498 ],\n",
              "       [0.76520395],\n",
              "       [0.7799331 ],\n",
              "       [0.7970032 ],\n",
              "       [0.815336  ],\n",
              "       [0.8347406 ],\n",
              "       [0.8550512 ],\n",
              "       [0.8762132 ],\n",
              "       [0.8961627 ],\n",
              "       [0.9132561 ],\n",
              "       [0.9263492 ],\n",
              "       [0.93380076],\n",
              "       [0.93513846],\n",
              "       [0.9308511 ],\n",
              "       [0.9218399 ],\n",
              "       [0.90887374],\n",
              "       [0.8917981 ],\n",
              "       [0.87078226],\n",
              "       [0.84712714],\n",
              "       [0.8222917 ],\n",
              "       [0.79815143],\n",
              "       [0.77543896],\n",
              "       [0.75266904],\n",
              "       [0.7269648 ],\n",
              "       [0.6978645 ],\n",
              "       [0.6659589 ],\n",
              "       [0.6324221 ],\n",
              "       [0.59833604],\n",
              "       [0.56486017],\n",
              "       [0.5330632 ],\n",
              "       [0.5040179 ],\n",
              "       [0.47990245],\n",
              "       [0.46284986],\n",
              "       [0.45459986],\n",
              "       [0.4556083 ],\n",
              "       [0.4653458 ],\n",
              "       [0.48250878],\n",
              "       [0.5048619 ],\n",
              "       [0.53017753],\n",
              "       [0.55653507],\n",
              "       [0.58233523],\n",
              "       [0.6067262 ],\n",
              "       [0.62923354],\n",
              "       [0.6495333 ],\n",
              "       [0.6653641 ],\n",
              "       [0.6747614 ],\n",
              "       [0.6768291 ],\n",
              "       [0.6718124 ],\n",
              "       [0.66067594],\n",
              "       [0.64448416],\n",
              "       [0.6251124 ],\n",
              "       [0.6042002 ],\n",
              "       [0.58287096],\n",
              "       [0.5621156 ],\n",
              "       [0.5433392 ],\n",
              "       [0.5282597 ],\n",
              "       [0.5185996 ],\n",
              "       [0.51514715],\n",
              "       [0.51904917],\n",
              "       [0.53173584],\n",
              "       [0.55086315],\n",
              "       [0.57411677],\n",
              "       [0.5981276 ],\n",
              "       [0.6210544 ],\n",
              "       [0.64193326],\n",
              "       [0.6612009 ],\n",
              "       [0.6788488 ],\n",
              "       [0.69518983],\n",
              "       [0.7105139 ],\n",
              "       [0.7251902 ],\n",
              "       [0.73971206],\n",
              "       [0.7532695 ],\n",
              "       [0.76467735],\n",
              "       [0.77325094],\n",
              "       [0.77879447],\n",
              "       [0.7808468 ],\n",
              "       [0.77905303],\n",
              "       [0.7737172 ],\n",
              "       [0.76525027],\n",
              "       [0.75502604],\n",
              "       [0.7446944 ],\n",
              "       [0.7359614 ],\n",
              "       [0.7298403 ],\n",
              "       [0.72545487],\n",
              "       [0.72222865],\n",
              "       [0.72089356],\n",
              "       [0.7219272 ],\n",
              "       [0.7255557 ],\n",
              "       [0.7316503 ],\n",
              "       [0.73951274],\n",
              "       [0.74746305],\n",
              "       [0.7539422 ],\n",
              "       [0.75813705],\n",
              "       [0.75934136],\n",
              "       [0.75764734],\n",
              "       [0.7534939 ],\n",
              "       [0.7471797 ],\n",
              "       [0.73940355],\n",
              "       [0.73142034],\n",
              "       [0.72392875],\n",
              "       [0.71702486],\n",
              "       [0.71089005],\n",
              "       [0.70548177],\n",
              "       [0.70107776],\n",
              "       [0.6987427 ],\n",
              "       [0.69924086],\n",
              "       [0.70297223],\n",
              "       [0.70937747],\n",
              "       [0.717632  ],\n",
              "       [0.7270901 ],\n",
              "       [0.737117  ],\n",
              "       [0.747724  ],\n",
              "       [0.758339  ],\n",
              "       [0.76834065],\n",
              "       [0.7771219 ],\n",
              "       [0.78396666],\n",
              "       [0.7881788 ],\n",
              "       [0.78939724],\n",
              "       [0.7882659 ],\n",
              "       [0.7854617 ],\n",
              "       [0.7817568 ],\n",
              "       [0.77830905],\n",
              "       [0.7768097 ],\n",
              "       [0.7778242 ],\n",
              "       [0.78054947],\n",
              "       [0.7849343 ],\n",
              "       [0.79066676],\n",
              "       [0.79683566],\n",
              "       [0.8021174 ],\n",
              "       [0.8047609 ],\n",
              "       [0.80380756],\n",
              "       [0.79936665],\n",
              "       [0.79198974],\n",
              "       [0.78288794],\n",
              "       [0.77333087],\n",
              "       [0.76506853],\n",
              "       [0.759802  ],\n",
              "       [0.7583859 ],\n",
              "       [0.7604186 ],\n",
              "       [0.76434225],\n",
              "       [0.769154  ],\n",
              "       [0.77424085],\n",
              "       [0.77927345],\n",
              "       [0.78277636],\n",
              "       [0.7840847 ],\n",
              "       [0.78311956],\n",
              "       [0.78046095],\n",
              "       [0.7764819 ],\n",
              "       [0.77159977],\n",
              "       [0.766419  ],\n",
              "       [0.76203793],\n",
              "       [0.7588803 ],\n",
              "       [0.7570707 ],\n",
              "       [0.75662553],\n",
              "       [0.75727445],\n",
              "       [0.7580957 ],\n",
              "       [0.75846547],\n",
              "       [0.7574279 ],\n",
              "       [0.7543641 ],\n",
              "       [0.7493065 ],\n",
              "       [0.74150306],\n",
              "       [0.73130506],\n",
              "       [0.719004  ],\n",
              "       [0.70513767],\n",
              "       [0.6906011 ],\n",
              "       [0.6755243 ],\n",
              "       [0.66013455],\n",
              "       [0.6445154 ],\n",
              "       [0.6288501 ],\n",
              "       [0.6133763 ],\n",
              "       [0.59862894],\n",
              "       [0.5854877 ],\n",
              "       [0.5751524 ],\n",
              "       [0.5684265 ],\n",
              "       [0.5654453 ],\n",
              "       [0.56578183],\n",
              "       [0.5689271 ],\n",
              "       [0.57454085],\n",
              "       [0.5818913 ],\n",
              "       [0.5893505 ],\n",
              "       [0.5938991 ],\n",
              "       [0.5935312 ],\n",
              "       [0.5878833 ],\n",
              "       [0.5768854 ],\n",
              "       [0.56091315],\n",
              "       [0.5405649 ],\n",
              "       [0.51700664],\n",
              "       [0.49108922],\n",
              "       [0.46329296],\n",
              "       [0.43383372],\n",
              "       [0.40321404],\n",
              "       [0.3719707 ],\n",
              "       [0.34110624],\n",
              "       [0.312426  ],\n",
              "       [0.28701472],\n",
              "       [0.2656319 ],\n",
              "       [0.24808751],\n",
              "       [0.23393628],\n",
              "       [0.22272179],\n",
              "       [0.21409705],\n",
              "       [0.20761624],\n",
              "       [0.20297076],\n",
              "       [0.20024358],\n",
              "       [0.20018825],\n",
              "       [0.20544842],\n",
              "       [0.21996601],\n",
              "       [0.24463442],\n",
              "       [0.27756962],\n",
              "       [0.31666943],\n",
              "       [0.359582  ],\n",
              "       [0.40349734],\n",
              "       [0.44586778],\n",
              "       [0.48439997]], dtype=float32)"
            ]
          },
          "execution_count": 44,
          "metadata": {},
          "output_type": "execute_result"
        }
      ],
      "source": [
        "y_pred"
      ]
    },
    {
      "cell_type": "code",
      "execution_count": 45,
      "id": "QMFgAgL5N6HX",
      "metadata": {
        "colab": {
          "base_uri": "https://localhost:8080/"
        },
        "id": "QMFgAgL5N6HX",
        "outputId": "0f80a24c-a3bb-4ea1-8566-e0ac9f6a7c16"
      },
      "outputs": [
        {
          "data": {
            "text/plain": [
              "array([9.01921453e-05])"
            ]
          },
          "execution_count": 45,
          "metadata": {},
          "output_type": "execute_result"
        }
      ],
      "source": [
        "scaler.scale_"
      ]
    },
    {
      "cell_type": "code",
      "execution_count": 46,
      "id": "tPcp9BKLN-Y8",
      "metadata": {
        "id": "tPcp9BKLN-Y8"
      },
      "outputs": [],
      "source": [
        "scale_factor = 1/9.01921453e-05\n",
        "y_pred = y_pred * scale_factor\n",
        "y_test = y_test * scale_factor"
      ]
    },
    {
      "cell_type": "code",
      "execution_count": 47,
      "id": "phumyMZUOPp_",
      "metadata": {
        "colab": {
          "base_uri": "https://localhost:8080/",
          "height": 542
        },
        "id": "phumyMZUOPp_",
        "outputId": "97c097f5-425b-4b78-c16e-83c45eb6514b"
      },
      "outputs": [
        {
          "data": {
            "image/png": "[encoded data removed]",
            "text/plain": [
              "<Figure size 1200x600 with 1 Axes>"
            ]
          },
          "metadata": {},
          "output_type": "display_data"
        }
      ],
      "source": [
        "plt.figure(figsize = (12,6))\n",
        "plt.plot(y_test, 'b', label = \"Original Price\")\n",
        "plt.plot(y_pred, 'r', label = \"Predicted Price\")\n",
        "plt.xlabel('Time')\n",
        "plt.ylabel('Price')\n",
        "plt.legend()\n",
        "plt.show()"
      ]
    },
    {
      "cell_type": "markdown",
      "id": "m54ljCJrpShP",
      "metadata": {
        "id": "m54ljCJrpShP"
      },
      "source": [
        "# Model evaluation"
      ]
    },
    {
      "cell_type": "code",
      "execution_count": 48,
      "id": "ba54fc93",
      "metadata": {},
      "outputs": [
        {
          "name": "stdout",
          "output_type": "stream",
          "text": [
            "R2 score: 0.09729023681737459\n"
          ]
        }
      ],
      "source": [
        "from sklearn.metrics import r2_score\n",
        "\n",
        "# Actual values\n",
        "actual = y_test\n",
        "\n",
        "# Predicted values\n",
        "predicted = y_pred\n",
        "\n",
        "# Calculate the R2 score\n",
        "r2 = r2_score(actual, predicted)\n",
        "\n",
        "print(\"R2 score:\", r2)"
      ]
    },
    {
      "cell_type": "code",
      "execution_count": 49,
      "id": "ab5b81bd",
      "metadata": {},
      "outputs": [
        {
          "data": {
            "image/png": "[encoded data removed]",
            "text/plain": [
              "<Figure size 640x480 with 1 Axes>"
            ]
          },
          "metadata": {},
          "output_type": "display_data"
        }
      ],
      "source": [
        "# Plotting the R2 score\n",
        "fig, ax = plt.subplots()\n",
        "ax.barh(0, r2, color='skyblue')\n",
        "ax.set_xlim([-1, 1])\n",
        "ax.set_yticks([])\n",
        "ax.set_xlabel('R2 Score')\n",
        "ax.set_title('R2 Score')\n",
        "\n",
        "# Adding the R2 score value on the bar\n",
        "ax.text(r2, 0, f'{r2:.2f}', va='center', color='black')\n",
        "\n",
        "plt.show()"
      ]
    },
    {
      "cell_type": "code",
      "execution_count": 50,
      "id": "347b7ec6",
      "metadata": {},
      "outputs": [
        {
          "data": {
            "image/png": "[encoded data removed]",
            "text/plain": [
              "<Figure size 640x480 with 1 Axes>"
            ]
          },
          "metadata": {},
          "output_type": "display_data"
        }
      ],
      "source": [
        "plt.scatter(actual, predicted)\n",
        "plt.plot([min(actual), max(actual)], [min(predicted), max(predicted)], 'r--')\n",
        "plt.xlabel('Actual Values')\n",
        "plt.ylabel('Predicted Values')\n",
        "plt.title(f'R2 Score: {r2:.2f}')\n",
        "plt.show()"
      ]
    },
    {
      "cell_type": "code",
      "execution_count": 51,
      "id": "72823ea3",
      "metadata": {},
      "outputs": [
        {
          "name": "stdout",
          "output_type": "stream",
          "text": [
            "Mean Absolute Error: 1195.059926868598\n",
            "Root Mean Squared Error: 1641.1808758336801\n"
          ]
        }
      ],
      "source": [
        "#mae and rmse\n",
        "from sklearn.metrics import mean_absolute_error, mean_squared_error\n",
        "mae = mean_absolute_error(actual, predicted)\n",
        "rmse = np.sqrt(mean_squared_error(actual, predicted))\n",
        "print(\"Mean Absolute Error:\", mae)\n",
        "print(\"Root Mean Squared Error:\", rmse)\n",
        "\n"
      ]
    }
  ],
  "metadata": {
    "accelerator": "GPU",
    "colab": {
      "include_colab_link": true,
      "provenance": []
    },
    "gpuClass": "standard",
    "kernelspec": {
      "display_name": "Python 3",
      "language": "python",
      "name": "python3"
    },
    "language_info": {
      "codemirror_mode": {
        "name": "ipython",
        "version": 3
      },
      "file_extension": ".py",
      "mimetype": "text/x-python",
      "name": "python",
      "nbconvert_exporter": "python",
      "pygments_lexer": "ipython3",
      "version": "3.12.3"
    }
  },
  "nbformat": 4,
  "nbformat_minor": 5
}
